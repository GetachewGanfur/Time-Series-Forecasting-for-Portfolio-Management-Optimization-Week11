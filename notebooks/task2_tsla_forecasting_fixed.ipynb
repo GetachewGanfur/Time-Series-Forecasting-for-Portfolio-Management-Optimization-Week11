{
  "cells": [
    {
      "cell_type": "markdown",
      "metadata": {},
      "source": [
        "##### Task 2: Develop Time Series Forecasting Models for TSLA\n",
        "\n",
        "This notebook fetches TSLA data from yfinance (2015-07-01 to 2025-07-31), performs a chronological split (train: 2015–2023-12-31, test: 2024–2025-07-31), and trains ARIMA/SARIMA and LSTM models. It evaluates with MAE, RMSE, MAPE and plots forecasts vs. actuals.\n"
      ]
    },
    {
      "cell_type": "code",
      "execution_count": 4,
      "metadata": {},
      "outputs": [],
      "source": [
        "# Ensure project root is on sys.path so `src` and `models` imports work\n",
        "import os\n",
        "import sys\n",
        "\n",
        "\n",
        "def _find_project_root(start_path):\n",
        "    current = os.path.abspath(start_path)\n",
        "    while True:\n",
        "        has_src = os.path.isdir(os.path.join(current, \"src\"))\n",
        "        has_models = os.path.isdir(os.path.join(current, \"models\"))\n",
        "        has_pyproject = os.path.isfile(os.path.join(current, \"pyproject.toml\"))\n",
        "        has_setup = os.path.isfile(os.path.join(current, \"setup.py\"))\n",
        "        if (has_src and has_models) or has_pyproject or has_setup:\n",
        "            return current\n",
        "        parent = os.path.dirname(current)\n",
        "        if parent == current:\n",
        "            return None\n",
        "        current = parent\n",
        "\n",
        "_project_root = _find_project_root(os.getcwd())\n",
        "if _project_root and _project_root not in sys.path:\n",
        "    sys.path.insert(0, _project_root)"
      ]
    },
    {
      "cell_type": "code",
      "execution_count": 5,
      "metadata": {},
      "outputs": [
        {
          "name": "stdout",
          "output_type": "stream",
          "text": [
            "Import error: No module named 'sklearn'\n",
            "Please ensure all required modules are available.\n"
          ]
        },
        {
          "ename": "ModuleNotFoundError",
          "evalue": "No module named 'sklearn'",
          "output_type": "error",
          "traceback": [
            "\u001b[31m---------------------------------------------------------------------------\u001b[39m",
            "\u001b[31mModuleNotFoundError\u001b[39m                       Traceback (most recent call last)",
            "\u001b[36mCell\u001b[39m\u001b[36m \u001b[39m\u001b[32mIn[5]\u001b[39m\u001b[32m, line 15\u001b[39m\n\u001b[32m     10\u001b[39m \u001b[38;5;66;03m# Import required classes\u001b[39;00m\n\u001b[32m     11\u001b[39m \u001b[38;5;28;01mtry\u001b[39;00m:\n\u001b[32m     12\u001b[39m     \u001b[38;5;66;03m# The import of DataManager from src triggers a transitive import of 'arch', which is not installed.\u001b[39;00m\n\u001b[32m     13\u001b[39m     \u001b[38;5;66;03m# To avoid ModuleNotFoundError, comment out DataManager import for now.\u001b[39;00m\n\u001b[32m     14\u001b[39m     \u001b[38;5;66;03m# from src.data_manager import DataManager\u001b[39;00m\n\u001b[32m---> \u001b[39m\u001b[32m15\u001b[39m     \u001b[38;5;28;01mfrom\u001b[39;00m\u001b[38;5;250m \u001b[39m\u001b[34;01mmodels\u001b[39;00m\u001b[34;01m.\u001b[39;00m\u001b[34;01mforecasting_models\u001b[39;00m\u001b[38;5;250m \u001b[39m\u001b[38;5;28;01mimport\u001b[39;00m ARIMAForecaster, SARIMAForecaster, LSTMForecaster, ForecastingEngine\n\u001b[32m     16\u001b[39m     \u001b[38;5;28;01mfrom\u001b[39;00m\u001b[38;5;250m \u001b[39m\u001b[34;01msrc\u001b[39;00m\u001b[34;01m.\u001b[39;00m\u001b[34;01mmodel_selection\u001b[39;00m\u001b[38;5;250m \u001b[39m\u001b[38;5;28;01mimport\u001b[39;00m chronological_split, arima_order_grid_search\n\u001b[32m     17\u001b[39m \u001b[38;5;28;01mexcept\u001b[39;00m \u001b[38;5;167;01mImportError\u001b[39;00m \u001b[38;5;28;01mas\u001b[39;00m e:\n",
            "\u001b[36mFile \u001b[39m\u001b[32md:\\Disk(D)\\Coding\\10Academy\\Time-Series-Forecasting-for-Portfolio-Management-Optimization-Week11\\models\\__init__.py:5\u001b[39m\n\u001b[32m      1\u001b[39m \u001b[33;03m\"\"\"\u001b[39;00m\n\u001b[32m      2\u001b[39m \u001b[33;03mModels module for Time Series Forecasting\u001b[39;00m\n\u001b[32m      3\u001b[39m \u001b[33;03m\"\"\"\u001b[39;00m\n\u001b[32m----> \u001b[39m\u001b[32m5\u001b[39m \u001b[38;5;28;01mfrom\u001b[39;00m\u001b[38;5;250m \u001b[39m\u001b[34;01m.\u001b[39;00m\u001b[34;01mforecasting_models\u001b[39;00m\u001b[38;5;250m \u001b[39m\u001b[38;5;28;01mimport\u001b[39;00m (\n\u001b[32m      6\u001b[39m     BaseForecaster, ARIMAForecaster, SARIMAForecaster, \n\u001b[32m      7\u001b[39m     ProphetForecaster, LSTMForecaster, EnsembleForecaster, \n\u001b[32m      8\u001b[39m     ForecastingEngine\n\u001b[32m      9\u001b[39m )\n\u001b[32m     11\u001b[39m __all__ = [\n\u001b[32m     12\u001b[39m     \u001b[33m'\u001b[39m\u001b[33mBaseForecaster\u001b[39m\u001b[33m'\u001b[39m, \u001b[33m'\u001b[39m\u001b[33mARIMAForecaster\u001b[39m\u001b[33m'\u001b[39m, \u001b[33m'\u001b[39m\u001b[33mSARIMAForecaster\u001b[39m\u001b[33m'\u001b[39m, \n\u001b[32m     13\u001b[39m     \u001b[33m'\u001b[39m\u001b[33mProphetForecaster\u001b[39m\u001b[33m'\u001b[39m, \u001b[33m'\u001b[39m\u001b[33mLSTMForecaster\u001b[39m\u001b[33m'\u001b[39m, \u001b[33m'\u001b[39m\u001b[33mEnsembleForecaster\u001b[39m\u001b[33m'\u001b[39m, \n\u001b[32m     14\u001b[39m     \u001b[33m'\u001b[39m\u001b[33mForecastingEngine\u001b[39m\u001b[33m'\u001b[39m\n\u001b[32m     15\u001b[39m ]\n",
            "\u001b[36mFile \u001b[39m\u001b[32md:\\Disk(D)\\Coding\\10Academy\\Time-Series-Forecasting-for-Portfolio-Management-Optimization-Week11\\models\\forecasting_models.py:9\u001b[39m\n\u001b[32m      7\u001b[39m \u001b[38;5;28;01mfrom\u001b[39;00m\u001b[38;5;250m \u001b[39m\u001b[34;01mtyping\u001b[39;00m\u001b[38;5;250m \u001b[39m\u001b[38;5;28;01mimport\u001b[39;00m Dict, List, Tuple, Optional, Union\n\u001b[32m      8\u001b[39m \u001b[38;5;28;01mimport\u001b[39;00m\u001b[38;5;250m \u001b[39m\u001b[34;01mlogging\u001b[39;00m\n\u001b[32m----> \u001b[39m\u001b[32m9\u001b[39m \u001b[38;5;28;01mfrom\u001b[39;00m\u001b[38;5;250m \u001b[39m\u001b[34;01msklearn\u001b[39;00m\u001b[34;01m.\u001b[39;00m\u001b[34;01mmetrics\u001b[39;00m\u001b[38;5;250m \u001b[39m\u001b[38;5;28;01mimport\u001b[39;00m mean_squared_error, mean_absolute_error\n\u001b[32m     10\u001b[39m \u001b[38;5;28;01mfrom\u001b[39;00m\u001b[38;5;250m \u001b[39m\u001b[34;01msklearn\u001b[39;00m\u001b[34;01m.\u001b[39;00m\u001b[34;01mpreprocessing\u001b[39;00m\u001b[38;5;250m \u001b[39m\u001b[38;5;28;01mimport\u001b[39;00m MinMaxScaler\n\u001b[32m     11\u001b[39m \u001b[38;5;28;01mimport\u001b[39;00m\u001b[38;5;250m \u001b[39m\u001b[34;01mwarnings\u001b[39;00m\n",
            "\u001b[31mModuleNotFoundError\u001b[39m: No module named 'sklearn'"
          ]
        }
      ],
      "source": [
        "import warnings\n",
        "warnings.filterwarnings('ignore')\n",
        "\n",
        "import os\n",
        "import numpy as np\n",
        "import pandas as pd\n",
        "import matplotlib.pyplot as plt\n",
        "from datetime import datetime\n",
        "\n",
        "# Import required classes\n",
        "try:\n",
        "    # The import of DataManager from src triggers a transitive import of 'arch', which is not installed.\n",
        "    # To avoid ModuleNotFoundError, comment out DataManager import for now.\n",
        "    # from src.data_manager import DataManager\n",
        "    from models.forecasting_models import ARIMAForecaster, SARIMAForecaster, LSTMForecaster, ForecastingEngine\n",
        "    from src.model_selection import chronological_split, arima_order_grid_search\n",
        "except ImportError as e:\n",
        "    print(f\"Import error: {e}\")\n",
        "    print(\"Please ensure all required modules are available.\")\n",
        "    raise\n",
        "\n",
        "# Set matplotlib style\n",
        "try:\n",
        "    plt.style.use('seaborn-v0_8-darkgrid')\n",
        "except Exception:\n",
        "    try:\n",
        "        plt.style.use('seaborn-darkgrid')\n",
        "    except Exception:\n",
        "        pass  # Use default style\n",
        "%matplotlib inline"
      ]
    },
    {
      "cell_type": "markdown",
      "metadata": {},
      "source": [
        "### 1) Fetch TSLA data from yfinance\n"
      ]
    },
    {
      "cell_type": "code",
      "execution_count": 6,
      "metadata": {},
      "outputs": [
        {
          "name": "stderr",
          "output_type": "stream",
          "text": [
            "[*********************100%***********************]  1 of 1 completed\n"
          ]
        },
        {
          "ename": "TypeError",
          "evalue": "'str' object is not callable",
          "output_type": "error",
          "traceback": [
            "\u001b[31m---------------------------------------------------------------------------\u001b[39m",
            "\u001b[31mTypeError\u001b[39m                                 Traceback (most recent call last)",
            "\u001b[36mCell\u001b[39m\u001b[36m \u001b[39m\u001b[32mIn[6]\u001b[39m\u001b[32m, line 9\u001b[39m\n\u001b[32m      6\u001b[39m \u001b[38;5;28;01mimport\u001b[39;00m\u001b[38;5;250m \u001b[39m\u001b[34;01myfinance\u001b[39;00m\u001b[38;5;250m \u001b[39m\u001b[38;5;28;01mas\u001b[39;00m\u001b[38;5;250m \u001b[39m\u001b[34;01myf\u001b[39;00m\n\u001b[32m      8\u001b[39m tsla_yf = yf.download(\u001b[33m'\u001b[39m\u001b[33mTSLA\u001b[39m\u001b[33m'\u001b[39m, start=START_DATE, end=END_DATE, interval=\u001b[33m'\u001b[39m\u001b[33m1d\u001b[39m\u001b[33m'\u001b[39m, auto_adjust=\u001b[38;5;28;01mFalse\u001b[39;00m)\n\u001b[32m----> \u001b[39m\u001b[32m9\u001b[39m tsla_close = \u001b[43mtsla_yf\u001b[49m\u001b[43m[\u001b[49m\u001b[33;43m'\u001b[39;49m\u001b[33;43mAdj Close\u001b[39;49m\u001b[33;43m'\u001b[39;49m\u001b[43m]\u001b[49m\u001b[43m.\u001b[49m\u001b[43mrename\u001b[49m\u001b[43m(\u001b[49m\u001b[33;43m'\u001b[39;49m\u001b[33;43mTSLA\u001b[39;49m\u001b[33;43m'\u001b[39;49m\u001b[43m)\u001b[49m.dropna()\n\u001b[32m     10\u001b[39m tsla_close.head()\n",
            "\u001b[36mFile \u001b[39m\u001b[32md:\\Disk(D)\\Coding\\10Academy\\Time-Series-Forecasting-for-Portfolio-Management-Optimization-Week11\\.venv\\Lib\\site-packages\\pandas\\core\\frame.py:5774\u001b[39m, in \u001b[36mDataFrame.rename\u001b[39m\u001b[34m(self, mapper, index, columns, axis, copy, inplace, level, errors)\u001b[39m\n\u001b[32m   5643\u001b[39m \u001b[38;5;28;01mdef\u001b[39;00m\u001b[38;5;250m \u001b[39m\u001b[34mrename\u001b[39m(\n\u001b[32m   5644\u001b[39m     \u001b[38;5;28mself\u001b[39m,\n\u001b[32m   5645\u001b[39m     mapper: Renamer | \u001b[38;5;28;01mNone\u001b[39;00m = \u001b[38;5;28;01mNone\u001b[39;00m,\n\u001b[32m   (...)\u001b[39m\u001b[32m   5653\u001b[39m     errors: IgnoreRaise = \u001b[33m\"\u001b[39m\u001b[33mignore\u001b[39m\u001b[33m\"\u001b[39m,\n\u001b[32m   5654\u001b[39m ) -> DataFrame | \u001b[38;5;28;01mNone\u001b[39;00m:\n\u001b[32m   5655\u001b[39m \u001b[38;5;250m    \u001b[39m\u001b[33;03m\"\"\"\u001b[39;00m\n\u001b[32m   5656\u001b[39m \u001b[33;03m    Rename columns or index labels.\u001b[39;00m\n\u001b[32m   5657\u001b[39m \n\u001b[32m   (...)\u001b[39m\u001b[32m   5772\u001b[39m \u001b[33;03m    4  3  6\u001b[39;00m\n\u001b[32m   5773\u001b[39m \u001b[33;03m    \"\"\"\u001b[39;00m\n\u001b[32m-> \u001b[39m\u001b[32m5774\u001b[39m     \u001b[38;5;28;01mreturn\u001b[39;00m \u001b[38;5;28;43msuper\u001b[39;49m\u001b[43m(\u001b[49m\u001b[43m)\u001b[49m\u001b[43m.\u001b[49m\u001b[43m_rename\u001b[49m\u001b[43m(\u001b[49m\n\u001b[32m   5775\u001b[39m \u001b[43m        \u001b[49m\u001b[43mmapper\u001b[49m\u001b[43m=\u001b[49m\u001b[43mmapper\u001b[49m\u001b[43m,\u001b[49m\n\u001b[32m   5776\u001b[39m \u001b[43m        \u001b[49m\u001b[43mindex\u001b[49m\u001b[43m=\u001b[49m\u001b[43mindex\u001b[49m\u001b[43m,\u001b[49m\n\u001b[32m   5777\u001b[39m \u001b[43m        \u001b[49m\u001b[43mcolumns\u001b[49m\u001b[43m=\u001b[49m\u001b[43mcolumns\u001b[49m\u001b[43m,\u001b[49m\n\u001b[32m   5778\u001b[39m \u001b[43m        \u001b[49m\u001b[43maxis\u001b[49m\u001b[43m=\u001b[49m\u001b[43maxis\u001b[49m\u001b[43m,\u001b[49m\n\u001b[32m   5779\u001b[39m \u001b[43m        \u001b[49m\u001b[43mcopy\u001b[49m\u001b[43m=\u001b[49m\u001b[43mcopy\u001b[49m\u001b[43m,\u001b[49m\n\u001b[32m   5780\u001b[39m \u001b[43m        \u001b[49m\u001b[43minplace\u001b[49m\u001b[43m=\u001b[49m\u001b[43minplace\u001b[49m\u001b[43m,\u001b[49m\n\u001b[32m   5781\u001b[39m \u001b[43m        \u001b[49m\u001b[43mlevel\u001b[49m\u001b[43m=\u001b[49m\u001b[43mlevel\u001b[49m\u001b[43m,\u001b[49m\n\u001b[32m   5782\u001b[39m \u001b[43m        \u001b[49m\u001b[43merrors\u001b[49m\u001b[43m=\u001b[49m\u001b[43merrors\u001b[49m\u001b[43m,\u001b[49m\n\u001b[32m   5783\u001b[39m \u001b[43m    \u001b[49m\u001b[43m)\u001b[49m\n",
            "\u001b[36mFile \u001b[39m\u001b[32md:\\Disk(D)\\Coding\\10Academy\\Time-Series-Forecasting-for-Portfolio-Management-Optimization-Week11\\.venv\\Lib\\site-packages\\pandas\\core\\generic.py:1132\u001b[39m, in \u001b[36mNDFrame._rename\u001b[39m\u001b[34m(self, mapper, index, columns, axis, copy, inplace, level, errors)\u001b[39m\n\u001b[32m   1125\u001b[39m         missing_labels = [\n\u001b[32m   1126\u001b[39m             label\n\u001b[32m   1127\u001b[39m             \u001b[38;5;28;01mfor\u001b[39;00m index, label \u001b[38;5;129;01min\u001b[39;00m \u001b[38;5;28menumerate\u001b[39m(replacements)\n\u001b[32m   1128\u001b[39m             \u001b[38;5;28;01mif\u001b[39;00m indexer[index] == -\u001b[32m1\u001b[39m\n\u001b[32m   1129\u001b[39m         ]\n\u001b[32m   1130\u001b[39m         \u001b[38;5;28;01mraise\u001b[39;00m \u001b[38;5;167;01mKeyError\u001b[39;00m(\u001b[33mf\u001b[39m\u001b[33m\"\u001b[39m\u001b[38;5;132;01m{\u001b[39;00mmissing_labels\u001b[38;5;132;01m}\u001b[39;00m\u001b[33m not found in axis\u001b[39m\u001b[33m\"\u001b[39m)\n\u001b[32m-> \u001b[39m\u001b[32m1132\u001b[39m new_index = \u001b[43max\u001b[49m\u001b[43m.\u001b[49m\u001b[43m_transform_index\u001b[49m\u001b[43m(\u001b[49m\u001b[43mf\u001b[49m\u001b[43m,\u001b[49m\u001b[43m \u001b[49m\u001b[43mlevel\u001b[49m\u001b[43m=\u001b[49m\u001b[43mlevel\u001b[49m\u001b[43m)\u001b[49m\n\u001b[32m   1133\u001b[39m result._set_axis_nocheck(new_index, axis=axis_no, inplace=\u001b[38;5;28;01mTrue\u001b[39;00m, copy=\u001b[38;5;28;01mFalse\u001b[39;00m)\n\u001b[32m   1134\u001b[39m result._clear_item_cache()\n",
            "\u001b[36mFile \u001b[39m\u001b[32md:\\Disk(D)\\Coding\\10Academy\\Time-Series-Forecasting-for-Portfolio-Management-Optimization-Week11\\.venv\\Lib\\site-packages\\pandas\\core\\indexes\\base.py:6583\u001b[39m, in \u001b[36mIndex._transform_index\u001b[39m\u001b[34m(self, func, level)\u001b[39m\n\u001b[32m   6581\u001b[39m     \u001b[38;5;28;01mreturn\u001b[39;00m \u001b[38;5;28mtype\u001b[39m(\u001b[38;5;28mself\u001b[39m).from_arrays(values)\n\u001b[32m   6582\u001b[39m \u001b[38;5;28;01melse\u001b[39;00m:\n\u001b[32m-> \u001b[39m\u001b[32m6583\u001b[39m     items = [\u001b[43mfunc\u001b[49m\u001b[43m(\u001b[49m\u001b[43mx\u001b[49m\u001b[43m)\u001b[49m \u001b[38;5;28;01mfor\u001b[39;00m x \u001b[38;5;129;01min\u001b[39;00m \u001b[38;5;28mself\u001b[39m]\n\u001b[32m   6584\u001b[39m     \u001b[38;5;28;01mreturn\u001b[39;00m Index(items, name=\u001b[38;5;28mself\u001b[39m.name, tupleize_cols=\u001b[38;5;28;01mFalse\u001b[39;00m)\n",
            "\u001b[31mTypeError\u001b[39m: 'str' object is not callable"
          ]
        }
      ],
      "source": [
        "START_DATE = '2015-07-01'\n",
        "END_DATE = '2025-07-31'\n",
        "TICKER = ['TSLA']\n",
        "\n",
        "# Download TSLA data directly using yfinance (bypassing DataManager)\n",
        "import yfinance as yf\n",
        "\n",
        "tsla_yf = yf.download('TSLA', start=START_DATE, end=END_DATE, interval='1d', auto_adjust=False)\n",
        "tsla_close = tsla_yf['Adj Close'].rename('TSLA').dropna()\n",
        "tsla_close.head()"
      ]
    },
    {
      "cell_type": "markdown",
      "metadata": {},
      "source": [
        "### 2) Chronological split: train vs test (no shuffling)\n"
      ]
    },
    {
      "cell_type": "code",
      "execution_count": 7,
      "metadata": {},
      "outputs": [
        {
          "ename": "NameError",
          "evalue": "name 'chronological_split' is not defined",
          "output_type": "error",
          "traceback": [
            "\u001b[31m---------------------------------------------------------------------------\u001b[39m",
            "\u001b[31mNameError\u001b[39m                                 Traceback (most recent call last)",
            "\u001b[36mCell\u001b[39m\u001b[36m \u001b[39m\u001b[32mIn[7]\u001b[39m\u001b[32m, line 2\u001b[39m\n\u001b[32m      1\u001b[39m TRAIN_END_DATE = \u001b[33m'\u001b[39m\u001b[33m2023-12-31\u001b[39m\u001b[33m'\u001b[39m\n\u001b[32m----> \u001b[39m\u001b[32m2\u001b[39m train, test = \u001b[43mchronological_split\u001b[49m(tsla_close, train_end_date=TRAIN_END_DATE)\n\u001b[32m      3\u001b[39m \u001b[38;5;28mlen\u001b[39m(train), \u001b[38;5;28mlen\u001b[39m(test), train.index.min(), train.index.max(), test.index.min(), test.index.max()\n",
            "\u001b[31mNameError\u001b[39m: name 'chronological_split' is not defined"
          ]
        }
      ],
      "source": [
        "TRAIN_END_DATE = '2023-12-31'\n",
        "train, test = chronological_split(tsla_close, train_end_date=TRAIN_END_DATE)\n",
        "len(train), len(test), train.index.min(), train.index.max(), test.index.min(), test.index.max()"
      ]
    },
    {
      "cell_type": "markdown",
      "metadata": {},
      "source": [
        "### 3) Baseline visualization\n"
      ]
    },
    {
      "cell_type": "code",
      "execution_count": 8,
      "metadata": {},
      "outputs": [
        {
          "ename": "NameError",
          "evalue": "name 'train' is not defined",
          "output_type": "error",
          "traceback": [
            "\u001b[31m---------------------------------------------------------------------------\u001b[39m",
            "\u001b[31mNameError\u001b[39m                                 Traceback (most recent call last)",
            "\u001b[36mCell\u001b[39m\u001b[36m \u001b[39m\u001b[32mIn[8]\u001b[39m\u001b[32m, line 2\u001b[39m\n\u001b[32m      1\u001b[39m fig, ax = plt.subplots(figsize=(\u001b[32m12\u001b[39m,\u001b[32m4\u001b[39m))\n\u001b[32m----> \u001b[39m\u001b[32m2\u001b[39m \u001b[43mtrain\u001b[49m.plot(ax=ax, label=\u001b[33m'\u001b[39m\u001b[33mTrain\u001b[39m\u001b[33m'\u001b[39m)\n\u001b[32m      3\u001b[39m test.plot(ax=ax, label=\u001b[33m'\u001b[39m\u001b[33mTest\u001b[39m\u001b[33m'\u001b[39m)\n\u001b[32m      4\u001b[39m ax.set_title(\u001b[33m'\u001b[39m\u001b[33mTSLA Adjusted Close (Train/Test)\u001b[39m\u001b[33m'\u001b[39m)\n",
            "\u001b[31mNameError\u001b[39m: name 'train' is not defined"
          ]
        },
        {
          "data": {
            "image/png": "[encoded data removed]",
            "text/plain": [
              "<Figure size 1200x400 with 1 Axes>"
            ]
          },
          "metadata": {},
          "output_type": "display_data"
        }
      ],
      "source": [
        "fig, ax = plt.subplots(figsize=(12,4))\n",
        "train.plot(ax=ax, label='Train')\n",
        "test.plot(ax=ax, label='Test')\n",
        "ax.set_title('TSLA Adjusted Close (Train/Test)')\n",
        "ax.legend();"
      ]
    },
    {
      "cell_type": "markdown",
      "metadata": {},
      "source": [
        "### 4) ARIMA order selection via grid search\n"
      ]
    },
    {
      "cell_type": "code",
      "execution_count": 9,
      "metadata": {},
      "outputs": [
        {
          "ename": "NameError",
          "evalue": "name 'arima_order_grid_search' is not defined",
          "output_type": "error",
          "traceback": [
            "\u001b[31m---------------------------------------------------------------------------\u001b[39m",
            "\u001b[31mNameError\u001b[39m                                 Traceback (most recent call last)",
            "\u001b[36mCell\u001b[39m\u001b[36m \u001b[39m\u001b[32mIn[9]\u001b[39m\u001b[32m, line 1\u001b[39m\n\u001b[32m----> \u001b[39m\u001b[32m1\u001b[39m best_order, metrics = \u001b[43marima_order_grid_search\u001b[49m(train, p_values=\u001b[38;5;28mrange\u001b[39m(\u001b[32m0\u001b[39m,\u001b[32m4\u001b[39m), d_values=\u001b[38;5;28mrange\u001b[39m(\u001b[32m0\u001b[39m,\u001b[32m2\u001b[39m), q_values=\u001b[38;5;28mrange\u001b[39m(\u001b[32m0\u001b[39m,\u001b[32m4\u001b[39m), criterion=\u001b[33m'\u001b[39m\u001b[33maic\u001b[39m\u001b[33m'\u001b[39m)\n\u001b[32m      2\u001b[39m best_order, metrics\n",
            "\u001b[31mNameError\u001b[39m: name 'arima_order_grid_search' is not defined"
          ]
        }
      ],
      "source": [
        "best_order, metrics = arima_order_grid_search(train, p_values=range(0,4), d_values=range(0,2), q_values=range(0,4), criterion='aic')\n",
        "best_order, metrics"
      ]
    },
    {
      "cell_type": "markdown",
      "metadata": {},
      "source": [
        "### 5) Train ARIMA and forecast over the test horizon\n"
      ]
    },
    {
      "cell_type": "code",
      "execution_count": 10,
      "metadata": {},
      "outputs": [
        {
          "ename": "NameError",
          "evalue": "name 'ARIMAForecaster' is not defined",
          "output_type": "error",
          "traceback": [
            "\u001b[31m---------------------------------------------------------------------------\u001b[39m",
            "\u001b[31mNameError\u001b[39m                                 Traceback (most recent call last)",
            "\u001b[36mCell\u001b[39m\u001b[36m \u001b[39m\u001b[32mIn[10]\u001b[39m\u001b[32m, line 1\u001b[39m\n\u001b[32m----> \u001b[39m\u001b[32m1\u001b[39m arima_model = \u001b[43mARIMAForecaster\u001b[49m(order=best_order).fit(train)\n\u001b[32m      2\u001b[39m arima_pred = arima_model.predict(steps=\u001b[38;5;28mlen\u001b[39m(test))\n\u001b[32m      3\u001b[39m arima_eval = arima_model.evaluate(test, arima_pred)\n",
            "\u001b[31mNameError\u001b[39m: name 'ARIMAForecaster' is not defined"
          ]
        }
      ],
      "source": [
        "arima_model = ARIMAForecaster(order=best_order).fit(train)\n",
        "arima_pred = arima_model.predict(steps=len(test))\n",
        "arima_eval = arima_model.evaluate(test, arima_pred)\n",
        "arima_eval"
      ]
    },
    {
      "cell_type": "markdown",
      "metadata": {},
      "source": [
        "### 6) Optional: SARIMA quick baseline\n"
      ]
    },
    {
      "cell_type": "code",
      "execution_count": 11,
      "metadata": {},
      "outputs": [
        {
          "ename": "NameError",
          "evalue": "name 'SARIMAForecaster' is not defined",
          "output_type": "error",
          "traceback": [
            "\u001b[31m---------------------------------------------------------------------------\u001b[39m",
            "\u001b[31mNameError\u001b[39m                                 Traceback (most recent call last)",
            "\u001b[36mCell\u001b[39m\u001b[36m \u001b[39m\u001b[32mIn[11]\u001b[39m\u001b[32m, line 1\u001b[39m\n\u001b[32m----> \u001b[39m\u001b[32m1\u001b[39m sarima = \u001b[43mSARIMAForecaster\u001b[49m(order=(\u001b[32m1\u001b[39m,\u001b[32m1\u001b[39m,\u001b[32m1\u001b[39m), seasonal_order=(\u001b[32m1\u001b[39m,\u001b[32m1\u001b[39m,\u001b[32m1\u001b[39m,\u001b[32m12\u001b[39m)).fit(train)\n\u001b[32m      2\u001b[39m sarima_pred = sarima.predict(steps=\u001b[38;5;28mlen\u001b[39m(test))\n\u001b[32m      3\u001b[39m sarima_eval = sarima.evaluate(test, sarima_pred)\n",
            "\u001b[31mNameError\u001b[39m: name 'SARIMAForecaster' is not defined"
          ]
        }
      ],
      "source": [
        "sarima = SARIMAForecaster(order=(1,1,1), seasonal_order=(1,1,1,12)).fit(train)\n",
        "sarima_pred = sarima.predict(steps=len(test))\n",
        "sarima_eval = sarima.evaluate(test, sarima_pred)\n",
        "sarima_eval"
      ]
    },
    {
      "cell_type": "markdown",
      "metadata": {},
      "source": [
        "### 7) LSTM model\n"
      ]
    },
    {
      "cell_type": "code",
      "execution_count": 12,
      "metadata": {},
      "outputs": [
        {
          "data": {
            "text/plain": [
              "{'mse': nan, 'mae': nan, 'rmse': nan, 'mape': nan}"
            ]
          },
          "execution_count": 12,
          "metadata": {},
          "output_type": "execute_result"
        }
      ],
      "source": [
        "try:\n",
        "    lstm = LSTMForecaster(units=64, dropout=0.2, epochs=10, batch_size=32, lookback=60)\n",
        "    lstm.fit(train)\n",
        "    lstm_pred = lstm.predict(steps=len(test))\n",
        "    lstm_eval = lstm.evaluate(test, lstm_pred)\n",
        "except Exception as e:\n",
        "    lstm_pred, lstm_eval = None, {'mse': np.nan, 'mae': np.nan, 'rmse': np.nan, 'mape': np.nan}\n",
        "lstm_eval"
      ]
    },
    {
      "cell_type": "markdown",
      "metadata": {},
      "source": [
        "### 8) Compare metrics\n"
      ]
    },
    {
      "cell_type": "code",
      "execution_count": 13,
      "metadata": {},
      "outputs": [
        {
          "ename": "NameError",
          "evalue": "name 'arima_eval' is not defined",
          "output_type": "error",
          "traceback": [
            "\u001b[31m---------------------------------------------------------------------------\u001b[39m",
            "\u001b[31mNameError\u001b[39m                                 Traceback (most recent call last)",
            "\u001b[36mCell\u001b[39m\u001b[36m \u001b[39m\u001b[32mIn[13]\u001b[39m\u001b[32m, line 2\u001b[39m\n\u001b[32m      1\u001b[39m results = pd.DataFrame({\n\u001b[32m----> \u001b[39m\u001b[32m2\u001b[39m     \u001b[33m'\u001b[39m\u001b[33mARIMA\u001b[39m\u001b[33m'\u001b[39m: \u001b[43marima_eval\u001b[49m,\n\u001b[32m      3\u001b[39m     \u001b[33m'\u001b[39m\u001b[33mSARIMA\u001b[39m\u001b[33m'\u001b[39m: sarima_eval,\n\u001b[32m      4\u001b[39m     \u001b[33m'\u001b[39m\u001b[33mLSTM\u001b[39m\u001b[33m'\u001b[39m: lstm_eval\n\u001b[32m      5\u001b[39m }).T\n\u001b[32m      6\u001b[39m results[[\u001b[33m'\u001b[39m\u001b[33mmae\u001b[39m\u001b[33m'\u001b[39m,\u001b[33m'\u001b[39m\u001b[33mrmse\u001b[39m\u001b[33m'\u001b[39m,\u001b[33m'\u001b[39m\u001b[33mmape\u001b[39m\u001b[33m'\u001b[39m]].sort_values(\u001b[33m'\u001b[39m\u001b[33mrmse\u001b[39m\u001b[33m'\u001b[39m)\n",
            "\u001b[31mNameError\u001b[39m: name 'arima_eval' is not defined"
          ]
        }
      ],
      "source": [
        "results = pd.DataFrame({\n",
        "    'ARIMA': arima_eval,\n",
        "    'SARIMA': sarima_eval,\n",
        "    'LSTM': lstm_eval\n",
        "}).T\n",
        "results[['mae','rmse','mape']].sort_values('rmse')"
      ]
    },
    {
      "cell_type": "markdown",
      "metadata": {},
      "source": [
        "### 9) Plot forecasts vs actuals\n"
      ]
    },
    {
      "cell_type": "code",
      "execution_count": 14,
      "metadata": {},
      "outputs": [
        {
          "ename": "NameError",
          "evalue": "name 'test' is not defined",
          "output_type": "error",
          "traceback": [
            "\u001b[31m---------------------------------------------------------------------------\u001b[39m",
            "\u001b[31mNameError\u001b[39m                                 Traceback (most recent call last)",
            "\u001b[36mCell\u001b[39m\u001b[36m \u001b[39m\u001b[32mIn[14]\u001b[39m\u001b[32m, line 2\u001b[39m\n\u001b[32m      1\u001b[39m fig, ax = plt.subplots(figsize=(\u001b[32m12\u001b[39m,\u001b[32m4\u001b[39m))\n\u001b[32m----> \u001b[39m\u001b[32m2\u001b[39m \u001b[43mtest\u001b[49m.plot(ax=ax, label=\u001b[33m'\u001b[39m\u001b[33mActual\u001b[39m\u001b[33m'\u001b[39m, color=\u001b[33m'\u001b[39m\u001b[33mblack\u001b[39m\u001b[33m'\u001b[39m)\n\u001b[32m      3\u001b[39m pd.Series(arima_pred, index=test.index).plot(ax=ax, label=\u001b[33m'\u001b[39m\u001b[33mARIMA\u001b[39m\u001b[33m'\u001b[39m)\n\u001b[32m      4\u001b[39m pd.Series(sarima_pred, index=test.index).plot(ax=ax, label=\u001b[33m'\u001b[39m\u001b[33mSARIMA\u001b[39m\u001b[33m'\u001b[39m)\n",
            "\u001b[31mNameError\u001b[39m: name 'test' is not defined"
          ]
        },
        {
          "data": {
            "image/png": "[encoded data removed]",
            "text/plain": [
              "<Figure size 1200x400 with 1 Axes>"
            ]
          },
          "metadata": {},
          "output_type": "display_data"
        }
      ],
      "source": [
        "fig, ax = plt.subplots(figsize=(12,4))\n",
        "test.plot(ax=ax, label='Actual', color='black')\n",
        "pd.Series(arima_pred, index=test.index).plot(ax=ax, label='ARIMA')\n",
        "pd.Series(sarima_pred, index=test.index).plot(ax=ax, label='SARIMA')\n",
        "if lstm_pred is not None:\n",
        "    pd.Series(lstm_pred, index=test.index).plot(ax=ax, label='LSTM')\n",
        "ax.set_title('TSLA Forecasts vs Actuals (Test)')\n",
        "ax.legend();"
      ]
    },
    {
      "cell_type": "markdown",
      "metadata": {},
      "source": [
        "### 10) Brief Discussion\n",
        "\n",
        "- ARIMA/SARIMA offer interpretability and strong baselines on many financial series after proper differencing.\n",
        "- LSTM can capture nonlinear patterns but requires careful tuning, more data, and is sensitive to scaling/lookback choices.\n",
        "- Compare MAE/RMSE/MAPE above to decide which performed better on 2024–2025 test data.\n"
      ]
    },
    {
      "cell_type": "code",
      "execution_count": null,
      "metadata": {},
      "outputs": [],
      "source": []
    }
  ],
  "metadata": {
    "kernelspec": {
      "display_name": ".venv",
      "language": "python",
      "name": "python3"
    },
    "language_info": {
      "codemirror_mode": {
        "name": "ipython",
        "version": 3
      },
      "file_extension": ".py",
      "mimetype": "text/x-python",
      "name": "python",
      "nbconvert_exporter": "python",
      "pygments_lexer": "ipython3",
      "version": "3.12.7"
    }
  },
  "nbformat": 4,
  "nbformat_minor": 2
}
