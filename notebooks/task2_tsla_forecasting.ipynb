{
  "cells": [
    {
      "cell_type": "markdown",
      "metadata": {},
      "source": [
        "##### Task 2: Develop Time Series Forecasting Models for TSLA\n",
        "\n",
        "This notebook fetches TSLA data from yfinance (2015-07-01 to 2025-07-31), performs a chronological split (train: 2015–2023-12-31, test: 2024–2025-07-31), and trains ARIMA/SARIMA and LSTM models. It evaluates with MAE, RMSE, MAPE and plots forecasts vs. actuals.\n"
      ]
    },
    {
      "cell_type": "code",
      "execution_count": null,
      "metadata": {},
      "outputs": [],
      "source": [
        "import warnings\n",
        "warnings.filterwarnings('ignore')\n",
        "\n",
        "import os\n",
        "import numpy as np\n",
        "import pandas as pd\n",
        "import matplotlib.pyplot as plt\n",
        "from datetime import datetime\n",
        "\n",
        "from src.data_manager import DataManager\n",
        "from models.forecasting_models import ARIMAForecaster, SARIMAForecaster, LSTMForecaster, ForecastingEngine\n",
        "from src.model_selection import chronological_split, arima_order_grid_search\n",
        "\n",
        "plt.style.use('seaborn-v0_8')\n",
        "%matplotlib inline\n"
      ]
    },
    {
      "cell_type": "markdown",
      "metadata": {},
      "source": [
        "### 1) Fetch TSLA data from yfinance\n"
      ]
    },
    {
      "cell_type": "code",
      "execution_count": null,
      "metadata": {},
      "outputs": [],
      "source": [
        "START_DATE = '2015-07-01'\n",
        "END_DATE = '2025-07-31'\n",
        "TICKER = ['TSLA']\n",
        "\n",
        "dm = DataManager(data_source='yfinance')\n",
        "raw = dm.fetch_data(TICKER, start_date=START_DATE, end_date=END_DATE, frequency='1d')\n",
        "# Extract Adj Close for TSLA\n",
        "tsla_close = raw['TSLA']['Adj Close'].rename('TSLA').dropna()\n",
        "tsla_close.head()\n"
      ]
    },
    {
      "cell_type": "markdown",
      "metadata": {},
      "source": [
        "### 2) Chronological split: train vs test (no shuffling)\n"
      ]
    },
    {
      "cell_type": "code",
      "execution_count": null,
      "metadata": {},
      "outputs": [],
      "source": [
        "TRAIN_END_DATE = '2023-12-31'\n",
        "train, test = chronological_split(tsla_close, train_end_date=TRAIN_END_DATE)\n",
        "len(train), len(test), train.index.min(), train.index.max(), test.index.min(), test.index.max()\n"
      ]
    },
    {
      "cell_type": "markdown",
      "metadata": {},
      "source": [
        "### 3) Baseline visualization\n"
      ]
    },
    {
      "cell_type": "code",
      "execution_count": null,
      "metadata": {},
      "outputs": [],
      "source": [
        "fig, ax = plt.subplots(figsize=(12,4))\n",
        "train.plot(ax=ax, label='Train')\n",
        "test.plot(ax=ax, label='Test')\n",
        "ax.set_title('TSLA Adjusted Close (Train/Test)')\n",
        "ax.legend();\n"
      ]
    },
    {
      "cell_type": "markdown",
      "metadata": {},
      "source": [
        "### 4) ARIMA order selection via grid search\n"
      ]
    },
    {
      "cell_type": "code",
      "execution_count": null,
      "metadata": {},
      "outputs": [],
      "source": [
        "best_order, metrics = arima_order_grid_search(train, p_values=range(0,4), d_values=range(0,2), q_values=range(0,4), criterion='aic')\n",
        "best_order, metrics\n"
      ]
    },
    {
      "cell_type": "markdown",
      "metadata": {},
      "source": [
        "### 5) Train ARIMA and forecast over the test horizon\n"
      ]
    },
    {
      "cell_type": "code",
      "execution_count": null,
      "metadata": {},
      "outputs": [],
      "source": [
        "arima_model = ARIMAForecaster(order=best_order).fit(train)\n",
        "arima_pred = arima_model.predict(steps=len(test))\n",
        "arima_eval = arima_model.evaluate(test, arima_pred)\n",
        "arima_eval\n"
      ]
    },
    {
      "cell_type": "markdown",
      "metadata": {},
      "source": [
        "### 6) Optional: SARIMA quick baseline\n"
      ]
    },
    {
      "cell_type": "code",
      "execution_count": null,
      "metadata": {},
      "outputs": [],
      "source": [
        "sarima = SARIMAForecaster(order=(1,1,1), seasonal_order=(1,1,1,12)).fit(train)\n",
        "sarima_pred = sarima.predict(steps=len(test))\n",
        "sarima_eval = sarima.evaluate(test, sarima_pred)\n",
        "sarima_eval\n"
      ]
    },
    {
      "cell_type": "markdown",
      "metadata": {},
      "source": [
        "### 7) LSTM model\n"
      ]
    },
    {
      "cell_type": "code",
      "execution_count": null,
      "metadata": {},
      "outputs": [],
      "source": [
        "try:\n",
        "    lstm = LSTMForecaster(units=64, dropout=0.2, epochs=10, batch_size=32, lookback=60)\n",
        "    lstm.fit(train)\n",
        "    lstm_pred = lstm.predict(steps=len(test))\n",
        "    lstm_eval = lstm.evaluate(test, lstm_pred)\n",
        "except Exception as e:\n",
        "    lstm_pred, lstm_eval = None, {'mse': np.nan, 'mae': np.nan, 'rmse': np.nan, 'mape': np.nan}\n",
        "lstm_eval\n"
      ]
    },
    {
      "cell_type": "markdown",
      "metadata": {},
      "source": [
        "### 8) Compare metrics\n"
      ]
    },
    {
      "cell_type": "code",
      "execution_count": null,
      "metadata": {},
      "outputs": [],
      "source": [
        "results = pd.DataFrame({\n",
        "    'ARIMA': arima_eval,\n",
        "    'SARIMA': sarima_eval,\n",
        "    'LSTM': lstm_eval\n",
        "}).T\n",
        "results[['mae','rmse','mape']].sort_values('rmse')\n"
      ]
    },
    {
      "cell_type": "markdown",
      "metadata": {},
      "source": [
        "### 9) Plot forecasts vs actuals\n"
      ]
    },
    {
      "cell_type": "code",
      "execution_count": null,
      "metadata": {},
      "outputs": [],
      "source": [
        "fig, ax = plt.subplots(figsize=(12,4))\n",
        "test.plot(ax=ax, label='Actual', color='black')\n",
        "pd.Series(arima_pred, index=test.index).plot(ax=ax, label='ARIMA')\n",
        "pd.Series(sarima_pred, index=test.index).plot(ax=ax, label='SARIMA')\n",
        "if lstm_pred is not None:\n",
        "    pd.Series(lstm_pred, index=test.index).plot(ax=ax, label='LSTM')\n",
        "ax.set_title('TSLA Forecasts vs Actuals (Test)')\n",
        "ax.legend();\n"
      ]
    },
    {
      "cell_type": "markdown",
      "metadata": {},
      "source": [
        "### 10) Brief Discussion\n",
        "\n",
        "- ARIMA/SARIMA offer interpretability and strong baselines on many financial series after proper differencing.\n",
        "- LSTM can capture nonlinear patterns but requires careful tuning, more data, and is sensitive to scaling/lookback choices.\n",
        "- Compare MAE/RMSE/MAPE above to decide which performed better on 2024–2025 test data.\n"
      ]
    },
    {
      "cell_type": "code",
      "execution_count": null,
      "metadata": {},
      "outputs": [],
      "source": []
    }
  ],
  "metadata": {
    "kernelspec": {
      "display_name": ".venv",
      "language": "python",
      "name": "python3"
    },
    "language_info": {
      "name": "python",
      "version": "3.12.7"
    }
  },
  "nbformat": 4,
  "nbformat_minor": 2
}
