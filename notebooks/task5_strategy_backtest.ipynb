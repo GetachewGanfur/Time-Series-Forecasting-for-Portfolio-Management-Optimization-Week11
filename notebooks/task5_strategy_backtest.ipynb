{
  "cells": [
    {
      "cell_type": "markdown",
      "metadata": {},
      "source": [
        "### Task 5: Strategy Backtesting\n",
        "\n",
        "Simulate the performance of the optimized portfolio against a simple benchmark (60% SPY / 40% BND) over the last year of data.\n"
      ]
    },
    {
      "cell_type": "code",
      "execution_count": null,
      "metadata": {},
      "outputs": [],
      "source": [
        "import warnings\n",
        "warnings.filterwarnings('ignore')\n",
        "\n",
        "import numpy as np\n",
        "import pandas as pd\n",
        "import matplotlib.pyplot as plt\n",
        "\n",
        "from src.data_manager import DataManager\n",
        "from src.task5_backtest import BacktestOrchestrator\n",
        "\n",
        "plt.style.use('seaborn-v0_8')\n",
        "%matplotlib inline\n"
      ]
    },
    {
      "cell_type": "markdown",
      "metadata": {},
      "source": [
        "### 1) Data and Backtest Window\n",
        "\n",
        "Use last year as backtest window (Aug 1, 2024 — Jul 31, 2025).\n"
      ]
    },
    {
      "cell_type": "code",
      "execution_count": null,
      "metadata": {},
      "outputs": [],
      "source": [
        "START_DATE = '2015-07-01'\n",
        "END_DATE = '2025-07-31'\n",
        "BACKTEST_START = '2024-08-01'\n",
        "BACKTEST_END = '2025-07-31'\n",
        "\n",
        "TICKERS = ['TSLA', 'BND', 'SPY']\n",
        "\n",
        "dm = DataManager(data_source='yfinance')\n",
        "raw = dm.fetch_data(TICKERS, start_date=START_DATE, end_date=END_DATE, frequency='1d')\n",
        "prices = pd.DataFrame({\n",
        "    'TSLA': raw['TSLA']['Adj Close'],\n",
        "    'BND': raw['BND']['Adj Close'],\n",
        "    'SPY': raw['SPY']['Adj Close'],\n",
        "}).dropna()\n",
        "\n",
        "orch = BacktestOrchestrator(initial_capital=100000, transaction_costs=0.001)\n",
        "windowed_returns = orch.prepare_returns(prices, BACKTEST_START, BACKTEST_END)\n",
        "prices.tail(), windowed_returns.head()\n"
      ]
    },
    {
      "cell_type": "markdown",
      "metadata": {},
      "source": [
        "### 2) Strategy and Benchmark Weights\n",
        "\n",
        "- Strategy: Use initial optimal weights from Task 4 (enter them or load from saved output). For this template, set a reasonable example.\n",
        "- Benchmark: 60% SPY / 40% BND (TSLA weight = 0).\n"
      ]
    },
    {
      "cell_type": "code",
      "execution_count": null,
      "metadata": {},
      "outputs": [],
      "source": [
        "# Example strategy weights (replace with Task 4 optimal weights)\n",
        "strategy_weights_map = {'TSLA': 0.3, 'BND': 0.3, 'SPY': 0.4}\n",
        "\n",
        "benchmark_weights_map = {'TSLA': 0.0, 'BND': 0.4, 'SPY': 0.6}\n",
        "\n",
        "strategy_weights_df = orch.make_constant_weights(windowed_returns.index, strategy_weights_map)\n",
        "benchmark_weights_df = orch.make_constant_weights(windowed_returns.index, benchmark_weights_map)\n",
        "\n",
        "strategy_weights_df.head(), benchmark_weights_df.head()\n"
      ]
    },
    {
      "cell_type": "markdown",
      "metadata": {},
      "source": [
        "### 3) Run Backtests (Monthly Rebalance)\n"
      ]
    },
    {
      "cell_type": "code",
      "execution_count": null,
      "metadata": {},
      "outputs": [],
      "source": [
        "res_strategy = orch.run(windowed_returns, strategy_weights_df, rebalance_frequency='monthly')\n",
        "res_benchmark = orch.run(windowed_returns, benchmark_weights_df, rebalance_frequency='monthly')\n",
        "\n",
        "res_strategy.performance_metrics, res_benchmark.performance_metrics\n"
      ]
    },
    {
      "cell_type": "markdown",
      "metadata": {},
      "source": [
        "### 4) Plot Cumulative Returns vs Benchmark\n"
      ]
    },
    {
      "cell_type": "code",
      "execution_count": null,
      "metadata": {},
      "outputs": [],
      "source": [
        "fig, ax = plt.subplots(figsize=(12,5))\n",
        "\n",
        "# Compute cumulative curves\n",
        "def cumcurve(portfolio_values: pd.DataFrame) -> pd.Series:\n",
        "    return portfolio_values['portfolio_value'] / portfolio_values['portfolio_value'].iloc[0]\n",
        "\n",
        "cum_strategy = cumcurve(res_strategy.portfolio_values)\n",
        "cum_benchmark = cumcurve(res_benchmark.portfolio_values)\n",
        "\n",
        "cum_strategy.plot(ax=ax, label='Strategy')\n",
        "cum_benchmark.plot(ax=ax, label='Benchmark (60/40)')\n",
        "\n",
        "ax.set_title('Cumulative Returns: Strategy vs Benchmark')\n",
        "ax.legend();\n"
      ]
    },
    {
      "cell_type": "markdown",
      "metadata": {},
      "source": [
        "### 5) Summary and Conclusion\n",
        "\n",
        "- Show total return and Sharpe for both, and provide a brief interpretation.\n"
      ]
    },
    {
      "cell_type": "code",
      "execution_count": null,
      "metadata": {},
      "outputs": [],
      "source": [
        "summary = pd.DataFrame([\n",
        "    {\n",
        "        'Name': 'Strategy',\n",
        "        'TotalReturn': res_strategy.performance_metrics['total_return'],\n",
        "        'Sharpe': res_strategy.performance_metrics['sharpe_ratio'],\n",
        "        'AnnReturn': res_strategy.performance_metrics['annualized_return'],\n",
        "        'AnnVol': res_strategy.performance_metrics['annualized_volatility'],\n",
        "    },\n",
        "    {\n",
        "        'Name': 'Benchmark',\n",
        "        'TotalReturn': res_benchmark.performance_metrics['total_return'],\n",
        "        'Sharpe': res_benchmark.performance_metrics['sharpe_ratio'],\n",
        "        'AnnReturn': res_benchmark.performance_metrics['annualized_return'],\n",
        "        'AnnVol': res_benchmark.performance_metrics['annualized_volatility'],\n",
        "    },\n",
        "])\n",
        "summary.set_index('Name')\n"
      ]
    }
  ],
  "metadata": {
    "kernelspec": {
      "display_name": ".venv",
      "language": "python",
      "name": "python3"
    },
    "language_info": {
      "name": "python",
      "version": "3.12.7"
    }
  },
  "nbformat": 4,
  "nbformat_minor": 2
}
