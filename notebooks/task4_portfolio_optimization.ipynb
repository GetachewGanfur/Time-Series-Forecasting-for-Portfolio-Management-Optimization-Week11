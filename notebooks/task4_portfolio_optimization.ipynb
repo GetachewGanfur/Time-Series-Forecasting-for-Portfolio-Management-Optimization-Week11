{
  "cells": [
    {
      "cell_type": "markdown",
      "metadata": {},
      "source": [
        "### Task 4: Optimize Portfolio Based on Forecast\n",
        "\n",
        "Construct an efficient frontier using expected returns (TSLA from forecast; BND, SPY from historical averages) and the historical covariance matrix. Identify and mark the maximum Sharpe and minimum volatility portfolios.\n"
      ]
    },
    {
      "cell_type": "code",
      "execution_count": null,
      "metadata": {},
      "outputs": [],
      "source": [
        "import warnings\n",
        "warnings.filterwarnings('ignore')\n",
        "\n",
        "import numpy as np\n",
        "import pandas as pd\n",
        "import matplotlib.pyplot as plt\n",
        "\n",
        "from src.data_manager import DataManager\n",
        "from src.task4_data import Task4DataBuilder\n",
        "from src.task4_optimizer import Task4Optimizer\n",
        "from src.forecasting_analysis import ForecastAnalyzer\n",
        "from models.forecasting_models import ARIMAForecaster\n",
        "from src.model_selection import arima_order_grid_search\n",
        "\n",
        "plt.style.use('seaborn-v0_8')\n",
        "%matplotlib inline\n"
      ]
    },
    {
      "cell_type": "markdown",
      "metadata": {},
      "source": [
        "### 1) Load prices for TSLA, BND, SPY\n"
      ]
    },
    {
      "cell_type": "code",
      "execution_count": null,
      "metadata": {},
      "outputs": [],
      "source": [
        "START_DATE = '2015-07-01'\n",
        "END_DATE = '2025-07-31'\n",
        "TICKERS = ['TSLA', 'BND', 'SPY']\n",
        "\n",
        "# Load from yfinance via DataManager\n",
        "dm = DataManager(data_source='yfinance')\n",
        "raw = dm.fetch_data(TICKERS, start_date=START_DATE, end_date=END_DATE, frequency='1d')\n",
        "prices = pd.DataFrame({\n",
        "    'TSLA': raw['TSLA']['Adj Close'],\n",
        "    'BND': raw['BND']['Adj Close'],\n",
        "    'SPY': raw['SPY']['Adj Close'],\n",
        "}).dropna()\n",
        "prices.tail()\n"
      ]
    },
    {
      "cell_type": "markdown",
      "metadata": {},
      "source": [
        "### 2) Build expected returns and covariance\n",
        "\n",
        "- TSLA expected return from ARIMA forecast (using 6-month horizon)\n",
        "- BND and SPY expected returns from historical average daily return annualized\n",
        "- Covariance from historical daily returns (annualized)\n"
      ]
    },
    {
      "cell_type": "code",
      "execution_count": null,
      "metadata": {},
      "outputs": [],
      "source": [
        "# Fit a concise ARIMA on full TSLA history and forecast 6 months\n",
        "order, _ = arima_order_grid_search(prices['TSLA'], p_values=range(0,4), d_values=range(0,2), q_values=range(0,4))\n",
        "arima = ARIMAForecaster(order=order).fit(prices['TSLA'])\n",
        "\n",
        "analyzer = ForecastAnalyzer(history=prices['TSLA'])\n",
        "analyzer.attach_model('ARIMA', arima)\n",
        "fc_6m = analyzer.forecast(horizon_days=126, include_intervals=True, ci_alpha=0.1)\n",
        "\n",
        "# Build task 4 inputs\n",
        "data_builder = Task4DataBuilder(prices)\n",
        "inputs = data_builder.build_expected_inputs(tsla_forecast_prices=fc_6m.mean, method='compounded')\n",
        "\n",
        "inputs.mu, inputs.cov.head()\n"
      ]
    },
    {
      "cell_type": "markdown",
      "metadata": {},
      "source": [
        "### 3) Efficient Frontier and Key Portfolios\n"
      ]
    },
    {
      "cell_type": "code",
      "execution_count": null,
      "metadata": {},
      "outputs": [],
      "source": [
        "opt = Task4Optimizer(risk_free_rate=0.02)\n",
        "frontier = opt.efficient_frontier(inputs.daily_returns, num_portfolios=1500)\n",
        "keys = opt.key_portfolios(inputs.daily_returns)\n",
        "\n",
        "# Plot Efficient Frontier\n",
        "fig, ax = plt.subplots(figsize=(10,6))\n",
        "ax.scatter(frontier.risks, frontier.returns, c=np.array(frontier.returns)/np.maximum(np.array(frontier.risks),1e-8), cmap='viridis', s=10)\n",
        "ax.set_xlabel('Volatility (Annualized)')\n",
        "ax.set_ylabel('Expected Return (Annualized)')\n",
        "ax.set_title('Efficient Frontier (TSLA, BND, SPY)')\n",
        "\n",
        "# Mark key portfolios\n",
        "ax.scatter(keys.max_sharpe['volatility'], keys.max_sharpe['expected_return'], marker='*', color='red', s=200, label='Max Sharpe')\n",
        "ax.scatter(keys.min_volatility['volatility'], keys.min_volatility['expected_return'], marker='X', color='blue', s=120, label='Min Volatility')\n",
        "ax.legend();\n"
      ]
    },
    {
      "cell_type": "markdown",
      "metadata": {},
      "source": [
        "### 4) Recommend a Portfolio\n",
        "\n",
        "- If prioritizing risk-adjusted returns: choose the Maximum Sharpe portfolio.\n",
        "- If prioritizing stability: choose the Minimum Volatility portfolio.\n",
        "\n",
        "Weights and metrics for both are shown below; select based on the investor’s profile.\n"
      ]
    },
    {
      "cell_type": "code",
      "execution_count": null,
      "metadata": {},
      "outputs": [],
      "source": [
        "weights_df = pd.concat([keys.max_sharpe_weights, keys.min_volatility_weights], axis=1)\n",
        "weights_df.columns = ['MaxSharpe', 'MinVol']\n",
        "\n",
        "summary = pd.DataFrame({\n",
        "    'Portfolio': ['MaxSharpe', 'MinVol'],\n",
        "    'ExpectedReturn': [keys.max_sharpe['expected_return'], keys.min_volatility['expected_return']],\n",
        "    'Volatility': [keys.max_sharpe['volatility'], keys.min_volatility['volatility']],\n",
        "    'Sharpe': [keys.max_sharpe['sharpe_ratio'], keys.min_volatility.get('sharpe_ratio', np.nan)],\n",
        "})\n",
        "weights_df, summary\n"
      ]
    }
  ],
  "metadata": {
    "language_info": {
      "name": "python"
    }
  },
  "nbformat": 4,
  "nbformat_minor": 2
}
