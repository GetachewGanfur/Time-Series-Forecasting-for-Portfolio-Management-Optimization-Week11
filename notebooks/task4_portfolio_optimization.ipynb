{
  "cells": [
    {
      "cell_type": "markdown",
      "metadata": {},
      "source": [
        "### Task 4: Optimize Portfolio Based on Forecast\n",
        "\n",
        "Construct an efficient frontier using expected returns (TSLA from forecast; BND, SPY from historical averages) and the historical covariance matrix. Identify and mark the maximum Sharpe and minimum volatility portfolios."
      ]
    },
    {
      "cell_type": "code",
      "execution_count": 1,
      "metadata": {},
      "outputs": [
        {
          "ename": "ModuleNotFoundError",
          "evalue": "No module named 'src'",
          "output_type": "error",
          "traceback": [
            "\u001b[31m---------------------------------------------------------------------------\u001b[39m",
            "\u001b[31mModuleNotFoundError\u001b[39m                       Traceback (most recent call last)",
            "\u001b[36mCell\u001b[39m\u001b[36m \u001b[39m\u001b[32mIn[1]\u001b[39m\u001b[32m, line 8\u001b[39m\n\u001b[32m      5\u001b[39m \u001b[38;5;28;01mimport\u001b[39;00m\u001b[38;5;250m \u001b[39m\u001b[34;01mpandas\u001b[39;00m\u001b[38;5;250m \u001b[39m\u001b[38;5;28;01mas\u001b[39;00m\u001b[38;5;250m \u001b[39m\u001b[34;01mpd\u001b[39;00m\n\u001b[32m      6\u001b[39m \u001b[38;5;28;01mimport\u001b[39;00m\u001b[38;5;250m \u001b[39m\u001b[34;01mmatplotlib\u001b[39;00m\u001b[34;01m.\u001b[39;00m\u001b[34;01mpyplot\u001b[39;00m\u001b[38;5;250m \u001b[39m\u001b[38;5;28;01mas\u001b[39;00m\u001b[38;5;250m \u001b[39m\u001b[34;01mplt\u001b[39;00m\n\u001b[32m----> \u001b[39m\u001b[32m8\u001b[39m \u001b[38;5;28;01mfrom\u001b[39;00m\u001b[38;5;250m \u001b[39m\u001b[34;01msrc\u001b[39;00m\u001b[34;01m.\u001b[39;00m\u001b[34;01mdata_manager\u001b[39;00m\u001b[38;5;250m \u001b[39m\u001b[38;5;28;01mimport\u001b[39;00m DataManager\n\u001b[32m      9\u001b[39m \u001b[38;5;28;01mfrom\u001b[39;00m\u001b[38;5;250m \u001b[39m\u001b[34;01msrc\u001b[39;00m\u001b[34;01m.\u001b[39;00m\u001b[34;01mtask4_data\u001b[39;00m\u001b[38;5;250m \u001b[39m\u001b[38;5;28;01mimport\u001b[39;00m Task4DataBuilder\n\u001b[32m     10\u001b[39m \u001b[38;5;28;01mfrom\u001b[39;00m\u001b[38;5;250m \u001b[39m\u001b[34;01msrc\u001b[39;00m\u001b[34;01m.\u001b[39;00m\u001b[34;01mtask4_optimizer\u001b[39;00m\u001b[38;5;250m \u001b[39m\u001b[38;5;28;01mimport\u001b[39;00m Task4Optimizer\n",
            "\u001b[31mModuleNotFoundError\u001b[39m: No module named 'src'"
          ]
        }
      ],
      "source": [
        "import warnings\n",
        "warnings.filterwarnings('ignore')\n",
        "\n",
        "import numpy as np\n",
        "import pandas as pd\n",
        "import matplotlib.pyplot as plt\n",
        "\n",
        "from src.data_manager import DataManager\n",
        "from src.task4_data import Task4DataBuilder\n",
        "from src.task4_optimizer import Task4Optimizer\n",
        "from src.forecasting_analysis import ForecastAnalyzer\n",
        "from models.forecasting_models import ARIMAForecaster\n",
        "from src.model_selection import arima_order_grid_search\n",
        "\n",
        "plt.style.use('seaborn-v0_8')\n",
        "%matplotlib inline\n"
      ]
    },
    {
      "cell_type": "markdown",
      "metadata": {},
      "source": [
        "### 1) Load prices for TSLA, BND, SPY\n"
      ]
    },
    {
      "cell_type": "code",
      "execution_count": 2,
      "metadata": {},
      "outputs": [
        {
          "ename": "NameError",
          "evalue": "name 'DataManager' is not defined",
          "output_type": "error",
          "traceback": [
            "\u001b[31m---------------------------------------------------------------------------\u001b[39m",
            "\u001b[31mNameError\u001b[39m                                 Traceback (most recent call last)",
            "\u001b[36mCell\u001b[39m\u001b[36m \u001b[39m\u001b[32mIn[2]\u001b[39m\u001b[32m, line 6\u001b[39m\n\u001b[32m      3\u001b[39m TICKERS = [\u001b[33m'\u001b[39m\u001b[33mTSLA\u001b[39m\u001b[33m'\u001b[39m, \u001b[33m'\u001b[39m\u001b[33mBND\u001b[39m\u001b[33m'\u001b[39m, \u001b[33m'\u001b[39m\u001b[33mSPY\u001b[39m\u001b[33m'\u001b[39m]\n\u001b[32m      5\u001b[39m \u001b[38;5;66;03m# Load from yfinance via DataManager\u001b[39;00m\n\u001b[32m----> \u001b[39m\u001b[32m6\u001b[39m dm = \u001b[43mDataManager\u001b[49m(data_source=\u001b[33m'\u001b[39m\u001b[33myfinance\u001b[39m\u001b[33m'\u001b[39m)\n\u001b[32m      7\u001b[39m raw = dm.fetch_data(TICKERS, start_date=START_DATE, end_date=END_DATE, frequency=\u001b[33m'\u001b[39m\u001b[33m1d\u001b[39m\u001b[33m'\u001b[39m)\n\u001b[32m      8\u001b[39m prices = pd.DataFrame({\n\u001b[32m      9\u001b[39m     \u001b[33m'\u001b[39m\u001b[33mTSLA\u001b[39m\u001b[33m'\u001b[39m: raw[\u001b[33m'\u001b[39m\u001b[33mTSLA\u001b[39m\u001b[33m'\u001b[39m][\u001b[33m'\u001b[39m\u001b[33mAdj Close\u001b[39m\u001b[33m'\u001b[39m],\n\u001b[32m     10\u001b[39m     \u001b[33m'\u001b[39m\u001b[33mBND\u001b[39m\u001b[33m'\u001b[39m: raw[\u001b[33m'\u001b[39m\u001b[33mBND\u001b[39m\u001b[33m'\u001b[39m][\u001b[33m'\u001b[39m\u001b[33mAdj Close\u001b[39m\u001b[33m'\u001b[39m],\n\u001b[32m     11\u001b[39m     \u001b[33m'\u001b[39m\u001b[33mSPY\u001b[39m\u001b[33m'\u001b[39m: raw[\u001b[33m'\u001b[39m\u001b[33mSPY\u001b[39m\u001b[33m'\u001b[39m][\u001b[33m'\u001b[39m\u001b[33mAdj Close\u001b[39m\u001b[33m'\u001b[39m],\n\u001b[32m     12\u001b[39m }).dropna()\n",
            "\u001b[31mNameError\u001b[39m: name 'DataManager' is not defined"
          ]
        }
      ],
      "source": [
        "START_DATE = '2015-07-01'\n",
        "END_DATE = '2025-07-31'\n",
        "TICKERS = ['TSLA', 'BND', 'SPY']\n",
        "\n",
        "# Load from yfinance via DataManager\n",
        "dm = DataManager(data_source='yfinance')\n",
        "raw = dm.fetch_data(TICKERS, start_date=START_DATE, end_date=END_DATE, frequency='1d')\n",
        "prices = pd.DataFrame({\n",
        "    'TSLA': raw['TSLA']['Adj Close'],\n",
        "    'BND': raw['BND']['Adj Close'],\n",
        "    'SPY': raw['SPY']['Adj Close'],\n",
        "}).dropna()\n",
        "prices.tail()\n"
      ]
    },
    {
      "cell_type": "markdown",
      "metadata": {},
      "source": [
        "### 2) Build expected returns and covariance\n",
        "\n",
        "- TSLA expected return from ARIMA forecast (using 6-month horizon)\n",
        "- BND and SPY expected returns from historical average daily return annualized\n",
        "- Covariance from historical daily returns (annualized)\n"
      ]
    },
    {
      "cell_type": "code",
      "execution_count": 3,
      "metadata": {},
      "outputs": [
        {
          "ename": "NameError",
          "evalue": "name 'arima_order_grid_search' is not defined",
          "output_type": "error",
          "traceback": [
            "\u001b[31m---------------------------------------------------------------------------\u001b[39m",
            "\u001b[31mNameError\u001b[39m                                 Traceback (most recent call last)",
            "\u001b[36mCell\u001b[39m\u001b[36m \u001b[39m\u001b[32mIn[3]\u001b[39m\u001b[32m, line 2\u001b[39m\n\u001b[32m      1\u001b[39m \u001b[38;5;66;03m# Fit a concise ARIMA on full TSLA history and forecast 6 months\u001b[39;00m\n\u001b[32m----> \u001b[39m\u001b[32m2\u001b[39m order, _ = \u001b[43marima_order_grid_search\u001b[49m(prices[\u001b[33m'\u001b[39m\u001b[33mTSLA\u001b[39m\u001b[33m'\u001b[39m], p_values=\u001b[38;5;28mrange\u001b[39m(\u001b[32m0\u001b[39m,\u001b[32m4\u001b[39m), d_values=\u001b[38;5;28mrange\u001b[39m(\u001b[32m0\u001b[39m,\u001b[32m2\u001b[39m), q_values=\u001b[38;5;28mrange\u001b[39m(\u001b[32m0\u001b[39m,\u001b[32m4\u001b[39m))\n\u001b[32m      3\u001b[39m arima = ARIMAForecaster(order=order).fit(prices[\u001b[33m'\u001b[39m\u001b[33mTSLA\u001b[39m\u001b[33m'\u001b[39m])\n\u001b[32m      5\u001b[39m analyzer = ForecastAnalyzer(history=prices[\u001b[33m'\u001b[39m\u001b[33mTSLA\u001b[39m\u001b[33m'\u001b[39m])\n",
            "\u001b[31mNameError\u001b[39m: name 'arima_order_grid_search' is not defined"
          ]
        }
      ],
      "source": [
        "# Fit a concise ARIMA on full TSLA history and forecast 6 months\n",
        "order, _ = arima_order_grid_search(prices['TSLA'], p_values=range(0,4), d_values=range(0,2), q_values=range(0,4))\n",
        "arima = ARIMAForecaster(order=order).fit(prices['TSLA'])\n",
        "\n",
        "analyzer = ForecastAnalyzer(history=prices['TSLA'])\n",
        "analyzer.attach_model('ARIMA', arima)\n",
        "fc_6m = analyzer.forecast(horizon_days=126, include_intervals=True, ci_alpha=0.1)\n",
        "\n",
        "# Build task 4 inputs\n",
        "data_builder = Task4DataBuilder(prices)\n",
        "inputs = data_builder.build_expected_inputs(tsla_forecast_prices=fc_6m.mean, method='compounded')\n",
        "\n",
        "inputs.mu, inputs.cov.head()\n"
      ]
    },
    {
      "cell_type": "markdown",
      "metadata": {},
      "source": [
        "### 3) Efficient Frontier and Key Portfolios\n"
      ]
    },
    {
      "cell_type": "code",
      "execution_count": 4,
      "metadata": {},
      "outputs": [
        {
          "ename": "NameError",
          "evalue": "name 'Task4Optimizer' is not defined",
          "output_type": "error",
          "traceback": [
            "\u001b[31m---------------------------------------------------------------------------\u001b[39m",
            "\u001b[31mNameError\u001b[39m                                 Traceback (most recent call last)",
            "\u001b[36mCell\u001b[39m\u001b[36m \u001b[39m\u001b[32mIn[4]\u001b[39m\u001b[32m, line 1\u001b[39m\n\u001b[32m----> \u001b[39m\u001b[32m1\u001b[39m opt = \u001b[43mTask4Optimizer\u001b[49m(risk_free_rate=\u001b[32m0.02\u001b[39m)\n\u001b[32m      2\u001b[39m frontier = opt.efficient_frontier(inputs.daily_returns, num_portfolios=\u001b[32m1500\u001b[39m)\n\u001b[32m      3\u001b[39m keys = opt.key_portfolios(inputs.daily_returns)\n",
            "\u001b[31mNameError\u001b[39m: name 'Task4Optimizer' is not defined"
          ]
        }
      ],
      "source": [
        "opt = Task4Optimizer(risk_free_rate=0.02)\n",
        "frontier = opt.efficient_frontier(inputs.daily_returns, num_portfolios=1500)\n",
        "keys = opt.key_portfolios(inputs.daily_returns)\n",
        "\n",
        "# Plot Efficient Frontier\n",
        "fig, ax = plt.subplots(figsize=(10,6))\n",
        "ax.scatter(frontier.risks, frontier.returns, c=np.array(frontier.returns)/np.maximum(np.array(frontier.risks),1e-8), cmap='viridis', s=10)\n",
        "ax.set_xlabel('Volatility (Annualized)')\n",
        "ax.set_ylabel('Expected Return (Annualized)')\n",
        "ax.set_title('Efficient Frontier (TSLA, BND, SPY)')\n",
        "\n",
        "# Mark key portfolios\n",
        "ax.scatter(keys.max_sharpe['volatility'], keys.max_sharpe['expected_return'], marker='*', color='red', s=200, label='Max Sharpe')\n",
        "ax.scatter(keys.min_volatility['volatility'], keys.min_volatility['expected_return'], marker='X', color='blue', s=120, label='Min Volatility')\n",
        "ax.legend();\n"
      ]
    },
    {
      "cell_type": "markdown",
      "metadata": {},
      "source": [
        "### 4) Recommend a Portfolio\n",
        "\n",
        "- If prioritizing risk-adjusted returns: choose the Maximum Sharpe portfolio.\n",
        "- If prioritizing stability: choose the Minimum Volatility portfolio.\n",
        "\n",
        "Weights and metrics for both are shown below; select based on the investor’s profile.\n"
      ]
    },
    {
      "cell_type": "code",
      "execution_count": 5,
      "metadata": {},
      "outputs": [
        {
          "ename": "NameError",
          "evalue": "name 'keys' is not defined",
          "output_type": "error",
          "traceback": [
            "\u001b[31m---------------------------------------------------------------------------\u001b[39m",
            "\u001b[31mNameError\u001b[39m                                 Traceback (most recent call last)",
            "\u001b[36mCell\u001b[39m\u001b[36m \u001b[39m\u001b[32mIn[5]\u001b[39m\u001b[32m, line 1\u001b[39m\n\u001b[32m----> \u001b[39m\u001b[32m1\u001b[39m weights_df = pd.concat([\u001b[43mkeys\u001b[49m.max_sharpe_weights, keys.min_volatility_weights], axis=\u001b[32m1\u001b[39m)\n\u001b[32m      2\u001b[39m weights_df.columns = [\u001b[33m'\u001b[39m\u001b[33mMaxSharpe\u001b[39m\u001b[33m'\u001b[39m, \u001b[33m'\u001b[39m\u001b[33mMinVol\u001b[39m\u001b[33m'\u001b[39m]\n\u001b[32m      4\u001b[39m summary = pd.DataFrame({\n\u001b[32m      5\u001b[39m     \u001b[33m'\u001b[39m\u001b[33mPortfolio\u001b[39m\u001b[33m'\u001b[39m: [\u001b[33m'\u001b[39m\u001b[33mMaxSharpe\u001b[39m\u001b[33m'\u001b[39m, \u001b[33m'\u001b[39m\u001b[33mMinVol\u001b[39m\u001b[33m'\u001b[39m],\n\u001b[32m      6\u001b[39m     \u001b[33m'\u001b[39m\u001b[33mExpectedReturn\u001b[39m\u001b[33m'\u001b[39m: [keys.max_sharpe[\u001b[33m'\u001b[39m\u001b[33mexpected_return\u001b[39m\u001b[33m'\u001b[39m], keys.min_volatility[\u001b[33m'\u001b[39m\u001b[33mexpected_return\u001b[39m\u001b[33m'\u001b[39m]],\n\u001b[32m      7\u001b[39m     \u001b[33m'\u001b[39m\u001b[33mVolatility\u001b[39m\u001b[33m'\u001b[39m: [keys.max_sharpe[\u001b[33m'\u001b[39m\u001b[33mvolatility\u001b[39m\u001b[33m'\u001b[39m], keys.min_volatility[\u001b[33m'\u001b[39m\u001b[33mvolatility\u001b[39m\u001b[33m'\u001b[39m]],\n\u001b[32m      8\u001b[39m     \u001b[33m'\u001b[39m\u001b[33mSharpe\u001b[39m\u001b[33m'\u001b[39m: [keys.max_sharpe[\u001b[33m'\u001b[39m\u001b[33msharpe_ratio\u001b[39m\u001b[33m'\u001b[39m], keys.min_volatility.get(\u001b[33m'\u001b[39m\u001b[33msharpe_ratio\u001b[39m\u001b[33m'\u001b[39m, np.nan)],\n\u001b[32m      9\u001b[39m })\n",
            "\u001b[31mNameError\u001b[39m: name 'keys' is not defined"
          ]
        }
      ],
      "source": [
        "weights_df = pd.concat([keys.max_sharpe_weights, keys.min_volatility_weights], axis=1)\n",
        "weights_df.columns = ['MaxSharpe', 'MinVol']\n",
        "\n",
        "summary = pd.DataFrame({\n",
        "    'Portfolio': ['MaxSharpe', 'MinVol'],\n",
        "    'ExpectedReturn': [keys.max_sharpe['expected_return'], keys.min_volatility['expected_return']],\n",
        "    'Volatility': [keys.max_sharpe['volatility'], keys.min_volatility['volatility']],\n",
        "    'Sharpe': [keys.max_sharpe['sharpe_ratio'], keys.min_volatility.get('sharpe_ratio', np.nan)],\n",
        "})\n",
        "weights_df, summary\n"
      ]
    },
    {
      "cell_type": "code",
      "execution_count": null,
      "metadata": {},
      "outputs": [],
      "source": []
    },
    {
      "cell_type": "code",
      "execution_count": null,
      "metadata": {},
      "outputs": [],
      "source": []
    }
  ],
  "metadata": {
    "kernelspec": {
      "display_name": ".venv",
      "language": "python",
      "name": "python3"
    },
    "language_info": {
      "codemirror_mode": {
        "name": "ipython",
        "version": 3
      },
      "file_extension": ".py",
      "mimetype": "text/x-python",
      "name": "python",
      "nbconvert_exporter": "python",
      "pygments_lexer": "ipython3",
      "version": "3.12.7"
    }
  },
  "nbformat": 4,
  "nbformat_minor": 2
}
