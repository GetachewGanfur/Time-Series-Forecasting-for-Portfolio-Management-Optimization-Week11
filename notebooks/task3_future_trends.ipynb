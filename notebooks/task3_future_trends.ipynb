{
  "cells": [
    {
      "cell_type": "markdown",
      "metadata": {},
      "source": [
        "### Task 3: Forecast Future Market Trends (TSLA)\n",
        "Use the trained model from Task 2 (ARIMA/SARIMA/LSTM) to generate 6–12 month forecasts, visualize with confidence intervals, and interpret trends and risks."
      ]
    },
    {
      "cell_type": "code",
      "execution_count": 13,
      "metadata": {},
      "outputs": [],
      "source": [
        "# Ensure project root is on sys.path so `src` and `models` imports work\n",
        "import os\n",
        "import sys\n",
        "\n",
        "\n",
        "def _find_project_root(start_path):\n",
        "    current = os.path.abspath(start_path)\n",
        "    while True:\n",
        "        has_src = os.path.isdir(os.path.join(current, \"src\"))\n",
        "        has_models = os.path.isdir(os.path.join(current, \"models\"))\n",
        "        has_pyproject = os.path.isfile(os.path.join(current, \"pyproject.toml\"))\n",
        "        has_setup = os.path.isfile(os.path.join(current, \"setup.py\"))\n",
        "        if (has_src and has_models) or has_pyproject or has_setup:\n",
        "            return current\n",
        "        parent = os.path.dirname(current)\n",
        "        if parent == current:\n",
        "            return None\n",
        "        current = parent\n",
        "\n",
        "_project_root = _find_project_root(os.getcwd())\n",
        "if _project_root and _project_root not in sys.path:\n",
        "    sys.path.insert(0, _project_root)"
      ]
    },
    {
      "cell_type": "code",
      "execution_count": 5,
      "metadata": {},
      "outputs": [
        {
          "ename": "ModuleNotFoundError",
          "evalue": "No module named 'sklearn'",
          "output_type": "error",
          "traceback": [
            "\u001b[31m---------------------------------------------------------------------------\u001b[39m",
            "\u001b[31mModuleNotFoundError\u001b[39m                       Traceback (most recent call last)",
            "\u001b[36mCell\u001b[39m\u001b[36m \u001b[39m\u001b[32mIn[5]\u001b[39m\u001b[32m, line 9\u001b[39m\n\u001b[32m      6\u001b[39m \u001b[38;5;28;01mimport\u001b[39;00m\u001b[38;5;250m \u001b[39m\u001b[34;01mmatplotlib\u001b[39;00m\u001b[34;01m.\u001b[39;00m\u001b[34;01mpyplot\u001b[39;00m\u001b[38;5;250m \u001b[39m\u001b[38;5;28;01mas\u001b[39;00m\u001b[38;5;250m \u001b[39m\u001b[34;01mplt\u001b[39;00m\n\u001b[32m      8\u001b[39m \u001b[38;5;28;01mfrom\u001b[39;00m\u001b[38;5;250m \u001b[39m\u001b[34;01msrc\u001b[39;00m\u001b[34;01m.\u001b[39;00m\u001b[34;01mdata_manager\u001b[39;00m\u001b[38;5;250m \u001b[39m\u001b[38;5;28;01mimport\u001b[39;00m DataManager\n\u001b[32m----> \u001b[39m\u001b[32m9\u001b[39m \u001b[38;5;28;01mfrom\u001b[39;00m\u001b[38;5;250m \u001b[39m\u001b[34;01mmodels\u001b[39;00m\u001b[34;01m.\u001b[39;00m\u001b[34;01mforecasting_models\u001b[39;00m\u001b[38;5;250m \u001b[39m\u001b[38;5;28;01mimport\u001b[39;00m ARIMAForecaster, SARIMAForecaster, LSTMForecaster\n\u001b[32m     10\u001b[39m \u001b[38;5;28;01mfrom\u001b[39;00m\u001b[38;5;250m \u001b[39m\u001b[34;01msrc\u001b[39;00m\u001b[34;01m.\u001b[39;00m\u001b[34;01mmodel_selection\u001b[39;00m\u001b[38;5;250m \u001b[39m\u001b[38;5;28;01mimport\u001b[39;00m chronological_split, arima_order_grid_search\n\u001b[32m     11\u001b[39m \u001b[38;5;28;01mfrom\u001b[39;00m\u001b[38;5;250m \u001b[39m\u001b[34;01msrc\u001b[39;00m\u001b[34;01m.\u001b[39;00m\u001b[34;01mforecasting_analysis\u001b[39;00m\u001b[38;5;250m \u001b[39m\u001b[38;5;28;01mimport\u001b[39;00m ForecastAnalyzer\n",
            "\u001b[36mFile \u001b[39m\u001b[32md:\\Disk(D)\\Coding\\10Academy\\Time-Series-Forecasting-for-Portfolio-Management-Optimization-Week11\\models\\__init__.py:5\u001b[39m\n\u001b[32m      1\u001b[39m \u001b[33;03m\"\"\"\u001b[39;00m\n\u001b[32m      2\u001b[39m \u001b[33;03mModels module for Time Series Forecasting\u001b[39;00m\n\u001b[32m      3\u001b[39m \u001b[33;03m\"\"\"\u001b[39;00m\n\u001b[32m----> \u001b[39m\u001b[32m5\u001b[39m \u001b[38;5;28;01mfrom\u001b[39;00m\u001b[38;5;250m \u001b[39m\u001b[34;01m.\u001b[39;00m\u001b[34;01mforecasting_models\u001b[39;00m\u001b[38;5;250m \u001b[39m\u001b[38;5;28;01mimport\u001b[39;00m (\n\u001b[32m      6\u001b[39m     BaseForecaster, ARIMAForecaster, SARIMAForecaster, \n\u001b[32m      7\u001b[39m     ProphetForecaster, LSTMForecaster, EnsembleForecaster, \n\u001b[32m      8\u001b[39m     ForecastingEngine\n\u001b[32m      9\u001b[39m )\n\u001b[32m     11\u001b[39m __all__ = [\n\u001b[32m     12\u001b[39m     \u001b[33m'\u001b[39m\u001b[33mBaseForecaster\u001b[39m\u001b[33m'\u001b[39m, \u001b[33m'\u001b[39m\u001b[33mARIMAForecaster\u001b[39m\u001b[33m'\u001b[39m, \u001b[33m'\u001b[39m\u001b[33mSARIMAForecaster\u001b[39m\u001b[33m'\u001b[39m, \n\u001b[32m     13\u001b[39m     \u001b[33m'\u001b[39m\u001b[33mProphetForecaster\u001b[39m\u001b[33m'\u001b[39m, \u001b[33m'\u001b[39m\u001b[33mLSTMForecaster\u001b[39m\u001b[33m'\u001b[39m, \u001b[33m'\u001b[39m\u001b[33mEnsembleForecaster\u001b[39m\u001b[33m'\u001b[39m, \n\u001b[32m     14\u001b[39m     \u001b[33m'\u001b[39m\u001b[33mForecastingEngine\u001b[39m\u001b[33m'\u001b[39m\n\u001b[32m     15\u001b[39m ]\n",
            "\u001b[36mFile \u001b[39m\u001b[32md:\\Disk(D)\\Coding\\10Academy\\Time-Series-Forecasting-for-Portfolio-Management-Optimization-Week11\\models\\forecasting_models.py:9\u001b[39m\n\u001b[32m      7\u001b[39m \u001b[38;5;28;01mfrom\u001b[39;00m\u001b[38;5;250m \u001b[39m\u001b[34;01mtyping\u001b[39;00m\u001b[38;5;250m \u001b[39m\u001b[38;5;28;01mimport\u001b[39;00m Dict, List, Tuple, Optional, Union\n\u001b[32m      8\u001b[39m \u001b[38;5;28;01mimport\u001b[39;00m\u001b[38;5;250m \u001b[39m\u001b[34;01mlogging\u001b[39;00m\n\u001b[32m----> \u001b[39m\u001b[32m9\u001b[39m \u001b[38;5;28;01mfrom\u001b[39;00m\u001b[38;5;250m \u001b[39m\u001b[34;01msklearn\u001b[39;00m\u001b[34;01m.\u001b[39;00m\u001b[34;01mmetrics\u001b[39;00m\u001b[38;5;250m \u001b[39m\u001b[38;5;28;01mimport\u001b[39;00m mean_squared_error, mean_absolute_error\n\u001b[32m     10\u001b[39m \u001b[38;5;28;01mfrom\u001b[39;00m\u001b[38;5;250m \u001b[39m\u001b[34;01msklearn\u001b[39;00m\u001b[34;01m.\u001b[39;00m\u001b[34;01mpreprocessing\u001b[39;00m\u001b[38;5;250m \u001b[39m\u001b[38;5;28;01mimport\u001b[39;00m MinMaxScaler\n\u001b[32m     11\u001b[39m \u001b[38;5;28;01mimport\u001b[39;00m\u001b[38;5;250m \u001b[39m\u001b[34;01mwarnings\u001b[39;00m\n",
            "\u001b[31mModuleNotFoundError\u001b[39m: No module named 'sklearn'"
          ]
        }
      ],
      "source": [
        "import warnings\n",
        "warnings.filterwarnings('ignore')\n",
        "\n",
        "import numpy as np\n",
        "import pandas as pd\n",
        "import matplotlib.pyplot as plt\n",
        "\n",
        "from src.data_manager import DataManager\n",
        "from models.forecasting_models import ARIMAForecaster, SARIMAForecaster, LSTMForecaster\n",
        "from src.model_selection import chronological_split, arima_order_grid_search\n",
        "from src.forecasting_analysis import ForecastAnalyzer\n",
        "\n",
        "# Patch: If 'arch' is not installed, monkeypatch AdvancedFinancialAnalysis to avoid import error\n",
        "try:\n",
        "    try:\n",
        "        from src.financial_analysis import AdvancedFinancialAnalysis\n",
        "    except ModuleNotFoundError as e:\n",
        "        if \"sklearn\" in str(e):\n",
        "            import types\n",
        "            class AdvancedFinancialAnalysis:\n",
        "                def __init__(self, *args, **kwargs):\n",
        "                    raise ImportError(\"AdvancedFinancialAnalysis requires the 'sklearn' package. Please install it to use this feature.\")\n",
        "            import sys\n",
        "            sys.modules['src.financial_analysis'] = types.SimpleNamespace(AdvancedFinancialAnalysis=AdvancedFinancialAnalysis)\n",
        "        else:\n",
        "            raise\n",
        "except ModuleNotFoundError as e:\n",
        "    import types\n",
        "    import sys\n",
        "    # Patch for missing 'arch' (for AdvancedFinancialAnalysis)\n",
        "    if \"arch\" in str(e):\n",
        "        class AdvancedFinancialAnalysis:\n",
        "            def __init__(self, *args, **kwargs):\n",
        "                raise ImportError(\"AdvancedFinancialAnalysis requires the 'arch' package. Please install it to use this feature.\")\n",
        "        sys.modules['src.financial_analysis'] = types.SimpleNamespace(AdvancedFinancialAnalysis=AdvancedFinancialAnalysis)\n",
        "    # Patch for missing 'sklearn' (for forecasting_models)\n",
        "    elif \"sklearn\" in str(e):\n",
        "        # Patch models.forecasting_models and its symbols to raise on use\n",
        "        class _MissingSklearnForecaster:\n",
        "            def __init__(self, *args, **kwargs):\n",
        "                raise ImportError(\"This forecasting model requires the 'sklearn' package. Please install it to use this feature.\")\n",
        "        # Patch the module and its symbols\n",
        "        fake_mod = types.SimpleNamespace(\n",
        "            ARIMAForecaster=_MissingSklearnForecaster,\n",
        "            SARIMAForecaster=_MissingSklearnForecaster,\n",
        "            LSTMForecaster=_MissingSklearnForecaster,\n",
        "        )\n",
        "        sys.modules['models.forecasting_models'] = fake_mod\n",
        "        sys.modules['models'] = types.SimpleNamespace(forecasting_models=fake_mod)\n",
        "    else:\n",
        "        raise\n",
        "plt.style.use('seaborn-v0_8')\n",
        "%matplotlib inline\n"
      ]
    },
    {
      "cell_type": "markdown",
      "metadata": {},
      "source": [
        "### 1) Load TSLA and refit a model from Task 2 (if needed)\n",
        "\n",
        "For reproducibility, we reselect an ARIMA order via a quick grid search and fit on the full history.\n"
      ]
    },
    {
      "cell_type": "code",
      "execution_count": null,
      "metadata": {},
      "outputs": [
        {
          "ename": "ImportError",
          "evalue": "One or more forecasting/model selection classes could not be imported. Please ensure 'models/forecasting_models.py' and 'src/model_selection.py' exist and are on your PYTHONPATH.",
          "output_type": "error",
          "traceback": [
            "\u001b[31m---------------------------------------------------------------------------\u001b[39m\n",
            "\u001b[31mImportError\u001b[39m                               Traceback (most recent call last)\n",
            "\u001b[36mCell\u001b[39m\u001b[36m \u001b[39m\u001b[32mIn[11]\u001b[39m\u001b[32m, line 27\u001b[39m\n",
            "\u001b[32m     20\u001b[39m     \u001b[38;5;28;01mraise\u001b[39;00m \u001b[38;5;167;01mImportError\u001b[39;00m(\n",
            "\u001b[32m     21\u001b[39m         \u001b[33m\"\u001b[39m\u001b[33mThe \u001b[39m\u001b[33m'\u001b[39m\u001b[33mDataManager\u001b[39m\u001b[33m'\u001b[39m\u001b[33m class could not be imported. \u001b[39m\u001b[33m\"\u001b[39m\n",
            "\u001b[32m     22\u001b[39m         \u001b[33m\"\u001b[39m\u001b[33mPlease ensure that \u001b[39m\u001b[33m'\u001b[39m\u001b[33msrc.data_manager\u001b[39m\u001b[33m'\u001b[39m\u001b[33m exists and is on your PYTHONPATH, \u001b[39m\u001b[33m\"\u001b[39m\n",
            "\u001b[32m     23\u001b[39m         \u001b[33m\"\u001b[39m\u001b[33mand that all its dependencies (including \u001b[39m\u001b[33m'\u001b[39m\u001b[33mpandas_datareader\u001b[39m\u001b[33m'\u001b[39m\u001b[33m) are installed.\u001b[39m\u001b[33m\"\u001b[39m\n",
            "\u001b[32m     24\u001b[39m     )\n",
            "\u001b[32m     26\u001b[39m \u001b[38;5;28;01mif\u001b[39;00m \u001b[38;5;28many\u001b[39m(x \u001b[38;5;129;01mis\u001b[39;00m \u001b[38;5;28;01mNone\u001b[39;00m \u001b[38;5;28;01mfor\u001b[39;00m x \u001b[38;5;129;01min\u001b[39;00m [ARIMAForecaster, SARIMAForecaster, LSTMForecaster, ForecastingEngine, chronological_split, arima_order_grid_search]):\n",
            "\u001b[32m---> \u001b[39m\u001b[32m27\u001b[39m     \u001b[38;5;28;01mraise\u001b[39;00m \u001b[38;5;167;01mImportError\u001b[39;00m(\n",
            "\u001b[32m     28\u001b[39m         \u001b[33m\"\u001b[39m\u001b[33mOne or more forecasting/model selection classes could not be imported. \u001b[39m\u001b[33m\"\u001b[39m\n",
            "\u001b[32m     29\u001b[39m         \u001b[33m\"\u001b[39m\u001b[33mPlease ensure \u001b[39m\u001b[33m'\u001b[39m\u001b[33mmodels/forecasting_models.py\u001b[39m\u001b[33m'\u001b[39m\u001b[33m and \u001b[39m\u001b[33m'\u001b[39m\u001b[33msrc/model_selection.py\u001b[39m\u001b[33m'\u001b[39m\u001b[33m exist and are on your PYTHONPATH.\u001b[39m\u001b[33m\"\u001b[39m\n",
            "\u001b[32m     30\u001b[39m     )\n",
            "\u001b[32m     32\u001b[39m \u001b[38;5;28;01mtry\u001b[39;00m:\n",
            "\u001b[32m     33\u001b[39m     \u001b[38;5;28;01mraise\u001b[39;00m \u001b[38;5;167;01mImportError\u001b[39;00m(\n",
            "\u001b[32m     34\u001b[39m         \u001b[33m\"\u001b[39m\u001b[33mOne or more forecasting/model selection classes could not be imported. \u001b[39m\u001b[33m\"\u001b[39m\n",
            "\u001b[32m     35\u001b[39m         \u001b[33m\"\u001b[39m\u001b[33mPlease ensure \u001b[39m\u001b[33m'\u001b[39m\u001b[33mmodels/forecasting_models.py\u001b[39m\u001b[33m'\u001b[39m\u001b[33m and \u001b[39m\u001b[33m'\u001b[39m\u001b[33msrc/model_selection.py\u001b[39m\u001b[33m'\u001b[39m\u001b[33m exist and are on your PYTHONPATH.\u001b[39m\u001b[33m\"\u001b[39m\n",
            "\u001b[32m     36\u001b[39m     )\n",
            "\n",
            "\u001b[31mImportError\u001b[39m: One or more forecasting/model selection classes could not be imported. Please ensure 'models/forecasting_models.py' and 'src/model_selection.py' exist and are on your PYTHONPATH."
          ]
        }
      ],
      "source": [
        "import warnings\n",
        "warnings.filterwarnings('ignore')\n",
        "\n",
        "import os\n",
        "import numpy as np\n",
        "import pandas as pd\n",
        "import matplotlib.pyplot as plt\n",
        "from datetime import datetime\n",
        "\n",
        "try:\n",
        "    from src.data_manager import DataManager\n",
        "except ModuleNotFoundError as e:\n",
        "    DataManager = None\n",
        "    print(\"NameError: name 'DataManager' is not defined\\n\\n\"\n",
        "          \"The 'DataManager' class could not be imported. \"\n",
        "          \"Please ensure that 'src.data_manager' exists and is on your PYTHONPATH, \"\n",
        "          \"and that all its dependencies (including 'pandas_datareader') are installed.\")\n",
        "# If DataManager or other classes failed to import, raise an error and stop execution.\n",
        "if DataManager is None:\n",
        "    raise ImportError(\n",
        "        \"The 'DataManager' class could not be imported. \"\n",
        "        \"Please ensure that 'src.data_manager' exists and is on your PYTHONPATH, \"\n",
        "        \"and that all its dependencies (including 'pandas_datareader') are installed.\"\n",
        "    )\n",
        "\n",
        "if any(x is None for x in [ARIMAForecaster, SARIMAForecaster, LSTMForecaster, ForecastingEngine, chronological_split, arima_order_grid_search]):\n",
        "    raise ImportError(\n",
        "        \"One or more forecasting/model selection classes could not be imported. \"\n",
        "        \"Please ensure 'models/forecasting_models.py' and 'src/model_selection.py' exist and are on your PYTHONPATH.\"\n",
        "    )\n",
        "\n",
        "try:\n",
        "    raise ImportError(\n",
        "        \"One or more forecasting/model selection classes could not be imported. \"\n",
        "        \"Please ensure 'models/forecasting_models.py' and 'src/model_selection.py' exist and are on your PYTHONPATH.\"\n",
        "    )\n",
        "except ModuleNotFoundError as e:\n",
        "    ARIMAForecaster = SARIMAForecaster = LSTMForecaster = ForecastingEngine = None\n",
        "    chronological_split = arima_order_grid_search = None\n",
        "    print(\"NameError: forecasting/model selection classes could not be imported.\\n\"\n",
        "          \"Please ensure 'models/forecasting_models.py' and 'src/model_selection.py' exist and are on your PYTHONPATH.\")\n",
        "\n",
        "# Set matplotlib style, fallback gracefully if style is unavailable\n",
        "try:\n",
        "    plt.style.use('seaborn-darkgrid')\n",
        "except Exception:\n",
        "    plt.style.use('seaborn-darkgrid')\n",
        "%matplotlib inline\n"
      ]
    },
    {
      "cell_type": "code",
      "execution_count": 10,
      "metadata": {},
      "outputs": [
        {
          "name": "stderr",
          "output_type": "stream",
          "text": [
            "ERROR:src.data_manager:Error fetching yfinance data: module 'yfinance' has no attribute 'pdr_override'\n",
            "ERROR:src.data_manager:Error fetching data: module 'yfinance' has no attribute 'pdr_override'\n"
          ]
        },
        {
          "ename": "AttributeError",
          "evalue": "module 'yfinance' has no attribute 'pdr_override'",
          "output_type": "error",
          "traceback": [
            "\u001b[31m---------------------------------------------------------------------------\u001b[39m",
            "\u001b[31mAttributeError\u001b[39m                            Traceback (most recent call last)",
            "\u001b[36mCell\u001b[39m\u001b[36m \u001b[39m\u001b[32mIn[10]\u001b[39m\u001b[32m, line 6\u001b[39m\n\u001b[32m      3\u001b[39m TICKER = [\u001b[33m'\u001b[39m\u001b[33mTSLA\u001b[39m\u001b[33m'\u001b[39m]\n\u001b[32m      5\u001b[39m dm = DataManager(data_source=\u001b[33m'\u001b[39m\u001b[33myfinance\u001b[39m\u001b[33m'\u001b[39m)\n\u001b[32m----> \u001b[39m\u001b[32m6\u001b[39m raw = \u001b[43mdm\u001b[49m\u001b[43m.\u001b[49m\u001b[43mfetch_data\u001b[49m\u001b[43m(\u001b[49m\u001b[43mTICKER\u001b[49m\u001b[43m,\u001b[49m\u001b[43m \u001b[49m\u001b[43mstart_date\u001b[49m\u001b[43m=\u001b[49m\u001b[43mSTART_DATE\u001b[49m\u001b[43m,\u001b[49m\u001b[43m \u001b[49m\u001b[43mend_date\u001b[49m\u001b[43m=\u001b[49m\u001b[43mEND_DATE\u001b[49m\u001b[43m,\u001b[49m\u001b[43m \u001b[49m\u001b[43mfrequency\u001b[49m\u001b[43m=\u001b[49m\u001b[33;43m'\u001b[39;49m\u001b[33;43m1d\u001b[39;49m\u001b[33;43m'\u001b[39;49m\u001b[43m)\u001b[49m\n\u001b[32m      7\u001b[39m tsla_close = raw[\u001b[33m'\u001b[39m\u001b[33mTSLA\u001b[39m\u001b[33m'\u001b[39m][\u001b[33m'\u001b[39m\u001b[33mAdj Close\u001b[39m\u001b[33m'\u001b[39m].rename(\u001b[33m'\u001b[39m\u001b[33mTSLA\u001b[39m\u001b[33m'\u001b[39m).dropna()\n\u001b[32m      8\u001b[39m tsla_close.tail()\n",
            "\u001b[36mFile \u001b[39m\u001b[32md:\\Disk(D)\\Coding\\10Academy\\Time-Series-Forecasting-for-Portfolio-Management-Optimization-Week11\\src\\data_manager.py:52\u001b[39m, in \u001b[36mDataManager.fetch_data\u001b[39m\u001b[34m(self, tickers, start_date, end_date, frequency)\u001b[39m\n\u001b[32m     50\u001b[39m \u001b[38;5;28;01mtry\u001b[39;00m:\n\u001b[32m     51\u001b[39m     \u001b[38;5;28;01mif\u001b[39;00m \u001b[38;5;28mself\u001b[39m.data_source == \u001b[33m\"\u001b[39m\u001b[33myfinance\u001b[39m\u001b[33m\"\u001b[39m:\n\u001b[32m---> \u001b[39m\u001b[32m52\u001b[39m         \u001b[38;5;28;01mreturn\u001b[39;00m \u001b[38;5;28;43mself\u001b[39;49m\u001b[43m.\u001b[49m\u001b[43m_fetch_yfinance_data\u001b[49m\u001b[43m(\u001b[49m\u001b[43mtickers\u001b[49m\u001b[43m,\u001b[49m\u001b[43m \u001b[49m\u001b[43mstart_date\u001b[49m\u001b[43m,\u001b[49m\u001b[43m \u001b[49m\u001b[43mend_date\u001b[49m\u001b[43m,\u001b[49m\u001b[43m \u001b[49m\u001b[43mfrequency\u001b[49m\u001b[43m)\u001b[49m\n\u001b[32m     53\u001b[39m     \u001b[38;5;28;01melif\u001b[39;00m \u001b[38;5;28mself\u001b[39m.data_source == \u001b[33m\"\u001b[39m\u001b[33mpandas_datareader\u001b[39m\u001b[33m\"\u001b[39m:\n\u001b[32m     54\u001b[39m         \u001b[38;5;28;01mreturn\u001b[39;00m \u001b[38;5;28mself\u001b[39m._fetch_pandas_datareader_data(tickers, start_date, end_date, frequency)\n",
            "\u001b[36mFile \u001b[39m\u001b[32md:\\Disk(D)\\Coding\\10Academy\\Time-Series-Forecasting-for-Portfolio-Management-Optimization-Week11\\src\\data_manager.py:65\u001b[39m, in \u001b[36mDataManager._fetch_yfinance_data\u001b[39m\u001b[34m(self, tickers, start_date, end_date, frequency)\u001b[39m\n\u001b[32m     62\u001b[39m \u001b[38;5;250m\u001b[39m\u001b[33;03m\"\"\"Fetch data using yfinance\"\"\"\u001b[39;00m\n\u001b[32m     63\u001b[39m \u001b[38;5;28;01mtry\u001b[39;00m:\n\u001b[32m     64\u001b[39m     \u001b[38;5;66;03m# Override pandas_datareader with yfinance\u001b[39;00m\n\u001b[32m---> \u001b[39m\u001b[32m65\u001b[39m     \u001b[43myf\u001b[49m\u001b[43m.\u001b[49m\u001b[43mpdr_override\u001b[49m()\n\u001b[32m     67\u001b[39m     \u001b[38;5;66;03m# Fetch data for all tickers\u001b[39;00m\n\u001b[32m     68\u001b[39m     data = pdr.get_data_yahoo(tickers, start=start_date, end=end_date, interval=frequency)\n",
            "\u001b[31mAttributeError\u001b[39m: module 'yfinance' has no attribute 'pdr_override'"
          ]
        }
      ],
      "source": [
        "START_DATE = '2015-07-01'\n",
        "END_DATE = '2025-07-31'\n",
        "TICKER = ['TSLA']\n",
        "\n",
        "dm = DataManager(data_source='yfinance')\n",
        "raw = dm.fetch_data(TICKER, start_date=START_DATE, end_date=END_DATE, frequency='1d')\n",
        "tsla_close = raw['TSLA']['Adj Close'].rename('TSLA').dropna()\n",
        "tsla_close.tail()\n"
      ]
    },
    {
      "cell_type": "code",
      "execution_count": 7,
      "metadata": {},
      "outputs": [
        {
          "ename": "NameError",
          "evalue": "name 'arima_order_grid_search' is not defined",
          "output_type": "error",
          "traceback": [
            "\u001b[31m---------------------------------------------------------------------------\u001b[39m",
            "\u001b[31mNameError\u001b[39m                                 Traceback (most recent call last)",
            "\u001b[36mCell\u001b[39m\u001b[36m \u001b[39m\u001b[32mIn[7]\u001b[39m\u001b[32m, line 5\u001b[39m\n\u001b[32m      2\u001b[39m model_choice = \u001b[33m'\u001b[39m\u001b[33mARIMA\u001b[39m\u001b[33m'\u001b[39m\n\u001b[32m      4\u001b[39m \u001b[38;5;28;01mif\u001b[39;00m model_choice == \u001b[33m'\u001b[39m\u001b[33mARIMA\u001b[39m\u001b[33m'\u001b[39m:\n\u001b[32m----> \u001b[39m\u001b[32m5\u001b[39m     order, _ = \u001b[43marima_order_grid_search\u001b[49m(tsla_close, p_values=\u001b[38;5;28mrange\u001b[39m(\u001b[32m0\u001b[39m,\u001b[32m4\u001b[39m), d_values=\u001b[38;5;28mrange\u001b[39m(\u001b[32m0\u001b[39m,\u001b[32m2\u001b[39m), q_values=\u001b[38;5;28mrange\u001b[39m(\u001b[32m0\u001b[39m,\u001b[32m4\u001b[39m))\n\u001b[32m      6\u001b[39m     model = ARIMAForecaster(order=order).fit(tsla_close)\n\u001b[32m      7\u001b[39m \u001b[38;5;28;01melif\u001b[39;00m model_choice == \u001b[33m'\u001b[39m\u001b[33mSARIMA\u001b[39m\u001b[33m'\u001b[39m:\n",
            "\u001b[31mNameError\u001b[39m: name 'arima_order_grid_search' is not defined"
          ]
        }
      ],
      "source": [
        "# Choose a model: 'ARIMA' (default here), or adapt to 'SARIMA'/'LSTM'\n",
        "model_choice = 'ARIMA'\n",
        "\n",
        "if model_choice == 'ARIMA':\n",
        "    order, _ = arima_order_grid_search(tsla_close, p_values=range(0,4), d_values=range(0,2), q_values=range(0,4))\n",
        "    model = ARIMAForecaster(order=order).fit(tsla_close)\n",
        "elif model_choice == 'SARIMA':\n",
        "    model = SARIMAForecaster(order=(1,1,1), seasonal_order=(1,1,1,12)).fit(tsla_close)\n",
        "elif model_choice == 'LSTM':\n",
        "    model = LSTMForecaster(units=64, epochs=10, batch_size=32).fit(tsla_close)\n",
        "else:\n",
        "    raise ValueError('Unsupported model choice')\n",
        "\n",
        "model.name, getattr(model, 'order', None)\n"
      ]
    },
    {
      "cell_type": "markdown",
      "metadata": {},
      "source": [
        "### 2) Generate 6-month and 12-month forecasts with confidence intervals\n"
      ]
    },
    {
      "cell_type": "code",
      "execution_count": 8,
      "metadata": {},
      "outputs": [
        {
          "ename": "NameError",
          "evalue": "name 'ForecastAnalyzer' is not defined",
          "output_type": "error",
          "traceback": [
            "\u001b[31m---------------------------------------------------------------------------\u001b[39m",
            "\u001b[31mNameError\u001b[39m                                 Traceback (most recent call last)",
            "\u001b[36mCell\u001b[39m\u001b[36m \u001b[39m\u001b[32mIn[8]\u001b[39m\u001b[32m, line 1\u001b[39m\n\u001b[32m----> \u001b[39m\u001b[32m1\u001b[39m analyzer = \u001b[43mForecastAnalyzer\u001b[49m(history=tsla_close)\n\u001b[32m      2\u001b[39m analyzer.attach_model(model.name, model)\n\u001b[32m      4\u001b[39m fc_6m = analyzer.forecast(horizon_days=\u001b[32m126\u001b[39m, include_intervals=\u001b[38;5;28;01mTrue\u001b[39;00m, ci_alpha=\u001b[32m0.1\u001b[39m)   \u001b[38;5;66;03m# ~6 months\u001b[39;00m\n",
            "\u001b[31mNameError\u001b[39m: name 'ForecastAnalyzer' is not defined"
          ]
        }
      ],
      "source": [
        "analyzer = ForecastAnalyzer(history=tsla_close)\n",
        "analyzer.attach_model(model.name, model)\n",
        "\n",
        "fc_6m = analyzer.forecast(horizon_days=126, include_intervals=True, ci_alpha=0.1)   # ~6 months\n",
        "fc_12m = analyzer.forecast(horizon_days=252, include_intervals=True, ci_alpha=0.1)  # ~12 months\n",
        "\n",
        "(fc_6m.model_name, len(fc_6m.mean), len(fc_12m.mean))\n"
      ]
    },
    {
      "cell_type": "markdown",
      "metadata": {},
      "source": [
        "### 3) Visualize forecasts against history\n"
      ]
    },
    {
      "cell_type": "code",
      "execution_count": 9,
      "metadata": {},
      "outputs": [
        {
          "ename": "NameError",
          "evalue": "name 'tsla_close' is not defined",
          "output_type": "error",
          "traceback": [
            "\u001b[31m---------------------------------------------------------------------------\u001b[39m",
            "\u001b[31mNameError\u001b[39m                                 Traceback (most recent call last)",
            "\u001b[36mCell\u001b[39m\u001b[36m \u001b[39m\u001b[32mIn[9]\u001b[39m\u001b[32m, line 4\u001b[39m\n\u001b[32m      1\u001b[39m fig, ax = plt.subplots(figsize=(\u001b[32m14\u001b[39m,\u001b[32m5\u001b[39m))\n\u001b[32m      3\u001b[39m \u001b[38;5;66;03m# Plot history (last 2 years for focus)\u001b[39;00m\n\u001b[32m----> \u001b[39m\u001b[32m4\u001b[39m history_tail = \u001b[43mtsla_close\u001b[49m.tail(\u001b[32m504\u001b[39m)\n\u001b[32m      5\u001b[39m history_tail.plot(ax=ax, label=\u001b[33m'\u001b[39m\u001b[33mHistory\u001b[39m\u001b[33m'\u001b[39m, color=\u001b[33m'\u001b[39m\u001b[33mblack\u001b[39m\u001b[33m'\u001b[39m)\n\u001b[32m      7\u001b[39m \u001b[38;5;66;03m# Plot 6-month forecast\u001b[39;00m\n",
            "\u001b[31mNameError\u001b[39m: name 'tsla_close' is not defined"
          ]
        },
        {
          "data": {
            "image/png": "[encoded data removed]",
            "text/plain": [
              "<Figure size 1400x500 with 1 Axes>"
            ]
          },
          "metadata": {},
          "output_type": "display_data"
        }
      ],
      "source": [
        "fig, ax = plt.subplots(figsize=(14,5))\n",
        "\n",
        "# Plot history (last 2 years for focus)\n",
        "history_tail = tsla_close.tail(504)\n",
        "history_tail.plot(ax=ax, label='History', color='black')\n",
        "\n",
        "# Plot 6-month forecast\n",
        "fc_6m.mean.plot(ax=ax, label='Forecast 6m')\n",
        "if fc_6m.lower is not None and fc_6m.upper is not None:\n",
        "    ax.fill_between(fc_6m.mean.index, fc_6m.lower, fc_6m.upper, color='C0', alpha=0.2)\n",
        "\n",
        "# Plot 12-month forecast\n",
        "fc_12m.mean.plot(ax=ax, label='Forecast 12m')\n",
        "if fc_12m.lower is not None and fc_12m.upper is not None:\n",
        "    ax.fill_between(fc_12m.mean.index, fc_12m.lower, fc_12m.upper, color='C1', alpha=0.2)\n",
        "\n",
        "ax.set_title('TSLA: Future Forecasts (6m and 12m) with Confidence Intervals')\n",
        "ax.legend();\n"
      ]
    },
    {
      "cell_type": "markdown",
      "metadata": {},
      "source": [
        "### 4) Interpret the Results\n",
        "\n",
        "- Trend Analysis: Discuss whether the central forecast suggests upward, downward, or stable movement.\n",
        "- Patterns/Anomalies: Note any visible seasonality, mean-reversion, or outliers.\n",
        "- Volatility and Risk: Examine the confidence intervals—do they widen with horizon? What does that say about uncertainty over longer forecasts?\n",
        "- Market Opportunities/Risks: Identify potential opportunities (e.g., expected increases) and risks (e.g., high volatility, drawdowns).\n"
      ]
    }
  ],
  "metadata": {
    "kernelspec": {
      "display_name": ".venv",
      "language": "python",
      "name": "python3"
    },
    "language_info": {
      "codemirror_mode": {
        "name": "ipython",
        "version": 3
      },
      "file_extension": ".py",
      "mimetype": "text/x-python",
      "name": "python",
      "nbconvert_exporter": "python",
      "pygments_lexer": "ipython3",
      "version": "3.12.7"
    }
  },
  "nbformat": 4,
  "nbformat_minor": 2
}
