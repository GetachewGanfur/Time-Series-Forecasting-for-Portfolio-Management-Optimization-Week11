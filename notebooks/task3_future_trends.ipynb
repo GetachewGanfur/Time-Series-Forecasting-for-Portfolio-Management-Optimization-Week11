{
  "cells": [
    {
      "cell_type": "markdown",
      "metadata": {},
      "source": [
        "### Task 3: Forecast Future Market Trends (TSLA)\n",
        "\n",
        "Use the trained model from Task 2 (ARIMA/SARIMA/LSTM) to generate 6–12 month forecasts, visualize with confidence intervals, and interpret trends and risks.\n"
      ]
    },
    {
      "cell_type": "code",
      "execution_count": null,
      "metadata": {},
      "outputs": [],
      "source": [
        "import warnings\n",
        "warnings.filterwarnings('ignore')\n",
        "\n",
        "import numpy as np\n",
        "import pandas as pd\n",
        "import matplotlib.pyplot as plt\n",
        "\n",
        "from src.data_manager import DataManager\n",
        "from models.forecasting_models import ARIMAForecaster, SARIMAForecaster, LSTMForecaster\n",
        "from src.model_selection import chronological_split, arima_order_grid_search\n",
        "from src.forecasting_analysis import ForecastAnalyzer\n",
        "\n",
        "plt.style.use('seaborn-v0_8')\n",
        "%matplotlib inline\n"
      ]
    },
    {
      "cell_type": "markdown",
      "metadata": {},
      "source": [
        "### 1) Load TSLA and refit a model from Task 2 (if needed)\n",
        "\n",
        "For reproducibility, we reselect an ARIMA order via a quick grid search and fit on the full history.\n"
      ]
    },
    {
      "cell_type": "code",
      "execution_count": null,
      "metadata": {},
      "outputs": [],
      "source": [
        "START_DATE = '2015-07-01'\n",
        "END_DATE = '2025-07-31'\n",
        "TICKER = ['TSLA']\n",
        "\n",
        "dm = DataManager(data_source='yfinance')\n",
        "raw = dm.fetch_data(TICKER, start_date=START_DATE, end_date=END_DATE, frequency='1d')\n",
        "tsla_close = raw['TSLA']['Adj Close'].rename('TSLA').dropna()\n",
        "tsla_close.tail()\n"
      ]
    },
    {
      "cell_type": "code",
      "execution_count": null,
      "metadata": {},
      "outputs": [],
      "source": [
        "# Choose a model: 'ARIMA' (default here), or adapt to 'SARIMA'/'LSTM'\n",
        "model_choice = 'ARIMA'\n",
        "\n",
        "if model_choice == 'ARIMA':\n",
        "    order, _ = arima_order_grid_search(tsla_close, p_values=range(0,4), d_values=range(0,2), q_values=range(0,4))\n",
        "    model = ARIMAForecaster(order=order).fit(tsla_close)\n",
        "elif model_choice == 'SARIMA':\n",
        "    model = SARIMAForecaster(order=(1,1,1), seasonal_order=(1,1,1,12)).fit(tsla_close)\n",
        "elif model_choice == 'LSTM':\n",
        "    model = LSTMForecaster(units=64, epochs=10, batch_size=32).fit(tsla_close)\n",
        "else:\n",
        "    raise ValueError('Unsupported model choice')\n",
        "\n",
        "model.name, getattr(model, 'order', None)\n"
      ]
    },
    {
      "cell_type": "markdown",
      "metadata": {},
      "source": [
        "### 2) Generate 6-month and 12-month forecasts with confidence intervals\n"
      ]
    },
    {
      "cell_type": "code",
      "execution_count": null,
      "metadata": {},
      "outputs": [],
      "source": [
        "analyzer = ForecastAnalyzer(history=tsla_close)\n",
        "analyzer.attach_model(model.name, model)\n",
        "\n",
        "fc_6m = analyzer.forecast(horizon_days=126, include_intervals=True, ci_alpha=0.1)   # ~6 months\n",
        "fc_12m = analyzer.forecast(horizon_days=252, include_intervals=True, ci_alpha=0.1)  # ~12 months\n",
        "\n",
        "(fc_6m.model_name, len(fc_6m.mean), len(fc_12m.mean))\n"
      ]
    },
    {
      "cell_type": "markdown",
      "metadata": {},
      "source": [
        "### 3) Visualize forecasts against history\n"
      ]
    },
    {
      "cell_type": "code",
      "execution_count": null,
      "metadata": {},
      "outputs": [],
      "source": [
        "fig, ax = plt.subplots(figsize=(14,5))\n",
        "\n",
        "# Plot history (last 2 years for focus)\n",
        "history_tail = tsla_close.tail(504)\n",
        "history_tail.plot(ax=ax, label='History', color='black')\n",
        "\n",
        "# Plot 6-month forecast\n",
        "fc_6m.mean.plot(ax=ax, label='Forecast 6m')\n",
        "if fc_6m.lower is not None and fc_6m.upper is not None:\n",
        "    ax.fill_between(fc_6m.mean.index, fc_6m.lower, fc_6m.upper, color='C0', alpha=0.2)\n",
        "\n",
        "# Plot 12-month forecast\n",
        "fc_12m.mean.plot(ax=ax, label='Forecast 12m')\n",
        "if fc_12m.lower is not None and fc_12m.upper is not None:\n",
        "    ax.fill_between(fc_12m.mean.index, fc_12m.lower, fc_12m.upper, color='C1', alpha=0.2)\n",
        "\n",
        "ax.set_title('TSLA: Future Forecasts (6m and 12m) with Confidence Intervals')\n",
        "ax.legend();\n"
      ]
    },
    {
      "cell_type": "markdown",
      "metadata": {},
      "source": [
        "### 4) Interpret the Results\n",
        "\n",
        "- Trend Analysis: Discuss whether the central forecast suggests upward, downward, or stable movement.\n",
        "- Patterns/Anomalies: Note any visible seasonality, mean-reversion, or outliers.\n",
        "- Volatility and Risk: Examine the confidence intervals—do they widen with horizon? What does that say about uncertainty over longer forecasts?\n",
        "- Market Opportunities/Risks: Identify potential opportunities (e.g., expected increases) and risks (e.g., high volatility, drawdowns).\n"
      ]
    }
  ],
  "metadata": {
    "language_info": {
      "name": "python"
    }
  },
  "nbformat": 4,
  "nbformat_minor": 2
}
